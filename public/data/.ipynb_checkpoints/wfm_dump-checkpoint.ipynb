{
 "metadata": {
  "name": "",
  "signature": "sha256:789888b1c7d0dc793635dc5f2caa87f942196e97db9ee1c574060227b12d8b86"
 },
 "nbformat": 3,
 "nbformat_minor": 0,
 "worksheets": []
}