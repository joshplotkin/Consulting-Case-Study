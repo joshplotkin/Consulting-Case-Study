{
 "metadata": {
  "name": "",
  "signature": "sha256:85d374f6bd07201c92b977be632438daf1825c7d1e0a0fb744db775f7ab878b8"
 },
 "nbformat": 3,
 "nbformat_minor": 0,
 "worksheets": [
  {
   "cells": [
    {
     "cell_type": "code",
     "collapsed": false,
     "input": [
      "import pandas as pd\n",
      "from pandas import *"
     ],
     "language": "python",
     "metadata": {},
     "outputs": [],
     "prompt_number": 1
    },
    {
     "cell_type": "code",
     "collapsed": false,
     "input": [
      "df = read_csv('wfm_dump.csv')\n",
      "df.head()"
     ],
     "language": "python",
     "metadata": {},
     "outputs": [
      {
       "html": [
        "<div style=\"max-height:1000px;max-width:1500px;overflow:auto;\">\n",
        "<table border=\"1\" class=\"dataframe\">\n",
        "  <thead>\n",
        "    <tr style=\"text-align: right;\">\n",
        "      <th></th>\n",
        "      <th>year</th>\n",
        "      <th>month</th>\n",
        "      <th>day</th>\n",
        "      <th>units</th>\n",
        "      <th>price</th>\n",
        "      <th>product_name</th>\n",
        "      <th>size</th>\n",
        "      <th>region</th>\n",
        "      <th>store</th>\n",
        "    </tr>\n",
        "  </thead>\n",
        "  <tbody>\n",
        "    <tr>\n",
        "      <th>0</th>\n",
        "      <td> 2014</td>\n",
        "      <td> 4</td>\n",
        "      <td> 14</td>\n",
        "      <td> 1</td>\n",
        "      <td> 13.99</td>\n",
        "      <td> COCO-LADA</td>\n",
        "      <td> 32OZ</td>\n",
        "      <td> North Atlantic</td>\n",
        "      <td> Hadley</td>\n",
        "    </tr>\n",
        "    <tr>\n",
        "      <th>1</th>\n",
        "      <td> 2014</td>\n",
        "      <td> 5</td>\n",
        "      <td>  5</td>\n",
        "      <td> 1</td>\n",
        "      <td> 13.99</td>\n",
        "      <td> COCO-LADA</td>\n",
        "      <td> 32OZ</td>\n",
        "      <td> North Atlantic</td>\n",
        "      <td> Hadley</td>\n",
        "    </tr>\n",
        "    <tr>\n",
        "      <th>2</th>\n",
        "      <td> 2014</td>\n",
        "      <td> 5</td>\n",
        "      <td> 19</td>\n",
        "      <td> 1</td>\n",
        "      <td> 13.99</td>\n",
        "      <td> COCO-LADA</td>\n",
        "      <td> 32OZ</td>\n",
        "      <td> North Atlantic</td>\n",
        "      <td> Hadley</td>\n",
        "    </tr>\n",
        "    <tr>\n",
        "      <th>3</th>\n",
        "      <td> 2014</td>\n",
        "      <td> 5</td>\n",
        "      <td> 26</td>\n",
        "      <td> 1</td>\n",
        "      <td> 13.99</td>\n",
        "      <td> COCO-LADA</td>\n",
        "      <td> 32OZ</td>\n",
        "      <td> North Atlantic</td>\n",
        "      <td> Hadley</td>\n",
        "    </tr>\n",
        "    <tr>\n",
        "      <th>4</th>\n",
        "      <td> 2014</td>\n",
        "      <td> 7</td>\n",
        "      <td> 28</td>\n",
        "      <td> 1</td>\n",
        "      <td> 11.99</td>\n",
        "      <td> COCO-LADA</td>\n",
        "      <td> 32OZ</td>\n",
        "      <td> North Atlantic</td>\n",
        "      <td> Hadley</td>\n",
        "    </tr>\n",
        "  </tbody>\n",
        "</table>\n",
        "<p>5 rows \u00d7 9 columns</p>\n",
        "</div>"
       ],
       "metadata": {},
       "output_type": "pyout",
       "prompt_number": 2,
       "text": [
        "   year  month  day  units  price product_name  size          region   store\n",
        "0  2014      4   14      1  13.99    COCO-LADA  32OZ  North Atlantic  Hadley\n",
        "1  2014      5    5      1  13.99    COCO-LADA  32OZ  North Atlantic  Hadley\n",
        "2  2014      5   19      1  13.99    COCO-LADA  32OZ  North Atlantic  Hadley\n",
        "3  2014      5   26      1  13.99    COCO-LADA  32OZ  North Atlantic  Hadley\n",
        "4  2014      7   28      1  11.99    COCO-LADA  32OZ  North Atlantic  Hadley\n",
        "\n",
        "[5 rows x 9 columns]"
       ]
      }
     ],
     "prompt_number": 2
    },
    {
     "cell_type": "code",
     "collapsed": false,
     "input": [
      "df['sales'] = df.units*df.price\n",
      "df.groupby('region')[['region','units','sales']].sum()"
     ],
     "language": "python",
     "metadata": {},
     "outputs": [
      {
       "html": [
        "<div style=\"max-height:1000px;max-width:1500px;overflow:auto;\">\n",
        "<table border=\"1\" class=\"dataframe\">\n",
        "  <thead>\n",
        "    <tr style=\"text-align: right;\">\n",
        "      <th></th>\n",
        "      <th>units</th>\n",
        "      <th>sales</th>\n",
        "    </tr>\n",
        "    <tr>\n",
        "      <th>region</th>\n",
        "      <th></th>\n",
        "      <th></th>\n",
        "    </tr>\n",
        "  </thead>\n",
        "  <tbody>\n",
        "    <tr>\n",
        "      <th>North Atlantic</th>\n",
        "      <td> 1294</td>\n",
        "      <td> 17845.07</td>\n",
        "    </tr>\n",
        "    <tr>\n",
        "      <th>Northeast</th>\n",
        "      <td>  581</td>\n",
        "      <td>  7544.19</td>\n",
        "    </tr>\n",
        "    <tr>\n",
        "      <th>Pacific Northwest</th>\n",
        "      <td>  278</td>\n",
        "      <td>  4431.22</td>\n",
        "    </tr>\n",
        "    <tr>\n",
        "      <th>Rocky Mountain</th>\n",
        "      <td>   81</td>\n",
        "      <td>  1214.19</td>\n",
        "    </tr>\n",
        "    <tr>\n",
        "      <th>Southern Pacific</th>\n",
        "      <td>   21</td>\n",
        "      <td>   197.79</td>\n",
        "    </tr>\n",
        "  </tbody>\n",
        "</table>\n",
        "<p>5 rows \u00d7 2 columns</p>\n",
        "</div>"
       ],
       "metadata": {},
       "output_type": "pyout",
       "prompt_number": 3,
       "text": [
        "                   units     sales\n",
        "region                            \n",
        "North Atlantic      1294  17845.07\n",
        "Northeast            581   7544.19\n",
        "Pacific Northwest    278   4431.22\n",
        "Rocky Mountain        81   1214.19\n",
        "Southern Pacific      21    197.79\n",
        "\n",
        "[5 rows x 2 columns]"
       ]
      }
     ],
     "prompt_number": 3
    },
    {
     "cell_type": "code",
     "collapsed": false,
     "input": [
      "df.groupby('region')[['region','units','sales']].sum().units.sum()"
     ],
     "language": "python",
     "metadata": {},
     "outputs": [
      {
       "metadata": {},
       "output_type": "pyout",
       "prompt_number": 4,
       "text": [
        "2255"
       ]
      }
     ],
     "prompt_number": 4
    },
    {
     "cell_type": "code",
     "collapsed": false,
     "input": [
      "df.groupby('region')[['region','units','sales']].sum().sales.sum()"
     ],
     "language": "python",
     "metadata": {},
     "outputs": [
      {
       "metadata": {},
       "output_type": "pyout",
       "prompt_number": 6,
       "text": [
        "31232.459999999832"
       ]
      }
     ],
     "prompt_number": 6
    },
    {
     "cell_type": "code",
     "collapsed": false,
     "input": [
      "import time\n",
      "from datetime import date\n",
      "\n",
      "df['date'] = ''\n",
      "for i in range(len(df)):\n",
      "    df.loc[i,'date'] = date(df.loc[i,'year'],df.loc[i,'month'],df.loc[i,'day'])"
     ],
     "language": "python",
     "metadata": {},
     "outputs": [],
     "prompt_number": 19
    },
    {
     "cell_type": "code",
     "collapsed": false,
     "input": [
      "df.sort(['date','product_name'], ascending = False, inplace = True)\n",
      "df.groupby(['date',df.columns[5]])[['date',df.columns[5],'units']].sum().tail(10)"
     ],
     "language": "python",
     "metadata": {},
     "outputs": [
      {
       "html": [
        "<div style=\"max-height:1000px;max-width:1500px;overflow:auto;\">\n",
        "<table border=\"1\" class=\"dataframe\">\n",
        "  <thead>\n",
        "    <tr style=\"text-align: right;\">\n",
        "      <th></th>\n",
        "      <th></th>\n",
        "      <th>units</th>\n",
        "    </tr>\n",
        "    <tr>\n",
        "      <th>date</th>\n",
        "      <th>product_name</th>\n",
        "      <th></th>\n",
        "    </tr>\n",
        "  </thead>\n",
        "  <tbody>\n",
        "    <tr>\n",
        "      <th>2014-11-03</th>\n",
        "      <th>THE CLASSIC</th>\n",
        "      <td> 30</td>\n",
        "    </tr>\n",
        "    <tr>\n",
        "      <th rowspan=\"3\" valign=\"top\">2014-11-10</th>\n",
        "      <th>COCO-LADA</th>\n",
        "      <td> 12</td>\n",
        "    </tr>\n",
        "    <tr>\n",
        "      <th>PINK &amp; BLACK</th>\n",
        "      <td> 19</td>\n",
        "    </tr>\n",
        "    <tr>\n",
        "      <th>THE CLASSIC</th>\n",
        "      <td> 16</td>\n",
        "    </tr>\n",
        "    <tr>\n",
        "      <th rowspan=\"3\" valign=\"top\">2014-11-17</th>\n",
        "      <th>COCO-LADA</th>\n",
        "      <td> 12</td>\n",
        "    </tr>\n",
        "    <tr>\n",
        "      <th>PINK &amp; BLACK</th>\n",
        "      <td> 18</td>\n",
        "    </tr>\n",
        "    <tr>\n",
        "      <th>THE CLASSIC</th>\n",
        "      <td> 30</td>\n",
        "    </tr>\n",
        "    <tr>\n",
        "      <th rowspan=\"3\" valign=\"top\">2014-11-24</th>\n",
        "      <th>COCO-LADA</th>\n",
        "      <td> 11</td>\n",
        "    </tr>\n",
        "    <tr>\n",
        "      <th>PINK &amp; BLACK</th>\n",
        "      <td> 10</td>\n",
        "    </tr>\n",
        "    <tr>\n",
        "      <th>THE CLASSIC</th>\n",
        "      <td>  6</td>\n",
        "    </tr>\n",
        "  </tbody>\n",
        "</table>\n",
        "<p>10 rows \u00d7 1 columns</p>\n",
        "</div>"
       ],
       "metadata": {},
       "output_type": "pyout",
       "prompt_number": 47,
       "text": [
        "                         units\n",
        "date       product_name       \n",
        "2014-11-03 THE CLASSIC      30\n",
        "2014-11-10 COCO-LADA        12\n",
        "           PINK & BLACK     19\n",
        "           THE CLASSIC      16\n",
        "2014-11-17 COCO-LADA        12\n",
        "           PINK & BLACK     18\n",
        "           THE CLASSIC      30\n",
        "2014-11-24 COCO-LADA        11\n",
        "           PINK & BLACK     10\n",
        "           THE CLASSIC       6\n",
        "\n",
        "[10 rows x 1 columns]"
       ]
      }
     ],
     "prompt_number": 47
    },
    {
     "cell_type": "code",
     "collapsed": false,
     "input": [],
     "language": "python",
     "metadata": {},
     "outputs": []
    }
   ],
   "metadata": {}
  }
 ]
}