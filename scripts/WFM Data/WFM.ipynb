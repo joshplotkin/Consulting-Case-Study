{
 "metadata": {
  "name": "",
  "signature": "sha256:dc45ed754208002f1cf31cc92ecf1bc6ca5be4c6b4acadad0fc880cb09ae7b10"
 },
 "nbformat": 3,
 "nbformat_minor": 0,
 "worksheets": [
  {
   "cells": [
    {
     "cell_type": "code",
     "collapsed": false,
     "input": [
      "import pandas as pd\n",
      "from pandas import *"
     ],
     "language": "python",
     "metadata": {},
     "outputs": [],
     "prompt_number": 5
    },
    {
     "cell_type": "markdown",
     "metadata": {},
     "source": [
      "### url for data: \n",
      "\n",
      "http://vendor-reporting.wholefoods.com/microstrategy/asp/Main.aspx?evt=3067&src=Main.aspx.3067&visMode=0&reportID=557AE8C242636955B3B870A51822CC0A&reportViewMode=1&messageID=A0E5B42B42EBC3D95CDD9C98F8372202&executionMode=4&showOptionsPage=false&defaultRunMode=htmlGrids\n",
      "\n",
      "new:http://vendor-reporting.wholefoods.com/microstrategy/asp/Main.aspx?evt=3067&src=Main.aspx.3067&visMode=0&reportID=557AE8C242636955B3B870A51822CC0A&reportViewMode=1&messageID=6F2B8EF14E9909864B19B2AE48EAD612&executionMode=4&showOptionsPage=false"
     ]
    },
    {
     "cell_type": "code",
     "collapsed": false,
     "input": [
      "folder = '12-18-14/'\n",
      "df = read_csv(folder + 'wfm.csv')"
     ],
     "language": "python",
     "metadata": {},
     "outputs": [],
     "prompt_number": 8
    },
    {
     "cell_type": "code",
     "collapsed": false,
     "input": [
      "df.head()"
     ],
     "language": "python",
     "metadata": {},
     "outputs": [
      {
       "html": [
        "<div style=\"max-height:1000px;max-width:1500px;overflow:auto;\">\n",
        "<table border=\"1\" class=\"dataframe\">\n",
        "  <thead>\n",
        "    <tr style=\"text-align: right;\">\n",
        "      <th></th>\n",
        "      <th>Region</th>\n",
        "      <th>Store</th>\n",
        "      <th>Storenum</th>\n",
        "      <th>Producct</th>\n",
        "      <th>Size</th>\n",
        "      <th>Week</th>\n",
        "      <th>Unit Sales</th>\n",
        "      <th>Avg Rtl Price</th>\n",
        "    </tr>\n",
        "  </thead>\n",
        "  <tbody>\n",
        "    <tr>\n",
        "      <th>0</th>\n",
        "      <td> North Atlantic</td>\n",
        "      <td> Hadley</td>\n",
        "      <td> 10012</td>\n",
        "      <td> Coco Lada</td>\n",
        "      <td> 32</td>\n",
        "      <td> 2014 Week 28</td>\n",
        "      <td> 1</td>\n",
        "      <td> $13.99 </td>\n",
        "    </tr>\n",
        "    <tr>\n",
        "      <th>1</th>\n",
        "      <td> North Atlantic</td>\n",
        "      <td> Hadley</td>\n",
        "      <td> 10012</td>\n",
        "      <td> Coco Lada</td>\n",
        "      <td> 32</td>\n",
        "      <td> 2014 Week 31</td>\n",
        "      <td> 1</td>\n",
        "      <td> $13.99 </td>\n",
        "    </tr>\n",
        "    <tr>\n",
        "      <th>2</th>\n",
        "      <td> North Atlantic</td>\n",
        "      <td> Hadley</td>\n",
        "      <td> 10012</td>\n",
        "      <td> Coco Lada</td>\n",
        "      <td> 32</td>\n",
        "      <td> 2014 Week 33</td>\n",
        "      <td> 1</td>\n",
        "      <td> $13.99 </td>\n",
        "    </tr>\n",
        "    <tr>\n",
        "      <th>3</th>\n",
        "      <td> North Atlantic</td>\n",
        "      <td> Hadley</td>\n",
        "      <td> 10012</td>\n",
        "      <td> Coco Lada</td>\n",
        "      <td> 32</td>\n",
        "      <td> 2014 Week 34</td>\n",
        "      <td> 1</td>\n",
        "      <td> $13.99 </td>\n",
        "    </tr>\n",
        "    <tr>\n",
        "      <th>4</th>\n",
        "      <td> North Atlantic</td>\n",
        "      <td> Hadley</td>\n",
        "      <td> 10012</td>\n",
        "      <td> Coco Lada</td>\n",
        "      <td> 32</td>\n",
        "      <td> 2014 Week 43</td>\n",
        "      <td> 1</td>\n",
        "      <td> $11.99 </td>\n",
        "    </tr>\n",
        "  </tbody>\n",
        "</table>\n",
        "<p>5 rows \u00d7 8 columns</p>\n",
        "</div>"
       ],
       "metadata": {},
       "output_type": "pyout",
       "prompt_number": 9,
       "text": [
        "           Region   Store  Storenum   Producct  Size          Week  \\\n",
        "0  North Atlantic  Hadley     10012  Coco Lada    32  2014 Week 28   \n",
        "1  North Atlantic  Hadley     10012  Coco Lada    32  2014 Week 31   \n",
        "2  North Atlantic  Hadley     10012  Coco Lada    32  2014 Week 33   \n",
        "3  North Atlantic  Hadley     10012  Coco Lada    32  2014 Week 34   \n",
        "4  North Atlantic  Hadley     10012  Coco Lada    32  2014 Week 43   \n",
        "\n",
        "   Unit Sales Avg Rtl Price  \n",
        "0           1       $13.99   \n",
        "1           1       $13.99   \n",
        "2           1       $13.99   \n",
        "3           1       $13.99   \n",
        "4           1       $11.99   \n",
        "\n",
        "[5 rows x 8 columns]"
       ]
      }
     ],
     "prompt_number": 9
    },
    {
     "cell_type": "code",
     "collapsed": false,
     "input": [
      "df.columns = 'region','store','storenum','product','size','week','units','price'"
     ],
     "language": "python",
     "metadata": {},
     "outputs": [],
     "prompt_number": 10
    },
    {
     "cell_type": "code",
     "collapsed": false,
     "input": [
      "df = df[['region','store','storenum','product','size','week','units','price']]"
     ],
     "language": "python",
     "metadata": {},
     "outputs": [],
     "prompt_number": 11
    },
    {
     "cell_type": "code",
     "collapsed": false,
     "input": [
      "df.to_csv(folder + 'wfm_output.csv')"
     ],
     "language": "python",
     "metadata": {},
     "outputs": [],
     "prompt_number": 12
    },
    {
     "cell_type": "code",
     "collapsed": false,
     "input": [
      "stores = df[['region','store','storenum']].drop_duplicates().set_index('storenum')\n",
      "stores.head()\n",
      "stores.to_csv(folder + 'stores.csv')"
     ],
     "language": "python",
     "metadata": {},
     "outputs": [],
     "prompt_number": 13
    },
    {
     "cell_type": "code",
     "collapsed": false,
     "input": [
      "wfm_sales = df[['product','size','week','units','price','storenum']]\n",
      "wfm_sales.head()\n",
      "wfm_sales['SKU'] = ''\n",
      "for i in range(len(wfm_sales)):\n",
      "    wfm_sales.loc[i,'SKU'] = wfm_sales.loc[i,'product'].upper() + ' ' + str(wfm_sales.loc[i,'size']) + 'OZ'\n"
     ],
     "language": "python",
     "metadata": {},
     "outputs": [
      {
       "output_type": "stream",
       "stream": "stderr",
       "text": [
        "/usr/lib/python2.7/dist-packages/pandas/core/indexing.py:346: SettingWithCopyWarning: A value is trying to be set on a copy of a slice from a DataFrame.\n",
        "Try using .loc[row_index,col_indexer] = value instead\n",
        "  self.obj[item] = s\n"
       ]
      }
     ],
     "prompt_number": 14
    },
    {
     "cell_type": "code",
     "collapsed": false,
     "input": [
      "wfm_sales = wfm_sales[['week','units','price','SKU','storenum']]\n",
      "wfm_sales.loc[:,'SKU'] = wfm_sales.loc[:,'SKU'].apply(lambda x: x.replace('AND','&')) \n",
      "\n",
      "wfm_sales['year'] = wfm_sales.week.apply(lambda x: x.split(' ')[0])\n",
      "wfm_sales['week'] = wfm_sales.week.apply(lambda x: x.split(' ')[-1])\n",
      "\n",
      "wfm_sales['days'] = wfm_sales.week.apply(lambda x: 7*int(x))"
     ],
     "language": "python",
     "metadata": {},
     "outputs": [],
     "prompt_number": 15
    },
    {
     "cell_type": "code",
     "collapsed": false,
     "input": [
      "\n",
      "import datetime\n",
      "start_date = {2013: datetime.date(2012,10,1),\n",
      "2014: datetime.date(2013,9,30),\n",
      "2015: datetime.date(2014,9,29)\n",
      "}\n",
      "\n",
      "wfm_sales['start'] = wfm_sales.year.apply(lambda x: start_date[int(x)])"
     ],
     "language": "python",
     "metadata": {},
     "outputs": [],
     "prompt_number": 16
    },
    {
     "cell_type": "code",
     "collapsed": false,
     "input": [
      "wfm_sales.loc[:, 'start_week'] = ''\n",
      "\n",
      "for i in range(len(wfm_sales)):\n",
      "    wfm_sales.loc[i, 'start_week'] = wfm_sales.loc[i,'start'] + datetime.timedelta(days = wfm_sales.loc[i,'days'])"
     ],
     "language": "python",
     "metadata": {},
     "outputs": [],
     "prompt_number": 17
    },
    {
     "cell_type": "code",
     "collapsed": false,
     "input": [
      "wfm_sales = wfm_sales[['storenum','start_week','SKU','units','price']]\n",
      "wfm_sales.columns = 'storenum','week_starting','SKU','units','price'"
     ],
     "language": "python",
     "metadata": {},
     "outputs": [],
     "prompt_number": 18
    },
    {
     "cell_type": "code",
     "collapsed": false,
     "input": [
      "wfm_sales.to_csv(folder + 'wfm_sales.csv')\n",
      "wfm_sales.head()"
     ],
     "language": "python",
     "metadata": {},
     "outputs": [
      {
       "html": [
        "<div style=\"max-height:1000px;max-width:1500px;overflow:auto;\">\n",
        "<table border=\"1\" class=\"dataframe\">\n",
        "  <thead>\n",
        "    <tr style=\"text-align: right;\">\n",
        "      <th></th>\n",
        "      <th>storenum</th>\n",
        "      <th>week_starting</th>\n",
        "      <th>SKU</th>\n",
        "      <th>units</th>\n",
        "      <th>price</th>\n",
        "    </tr>\n",
        "  </thead>\n",
        "  <tbody>\n",
        "    <tr>\n",
        "      <th>0</th>\n",
        "      <td> 10012</td>\n",
        "      <td> 2014-04-14</td>\n",
        "      <td> COCO LADA 32OZ</td>\n",
        "      <td> 1</td>\n",
        "      <td> $13.99 </td>\n",
        "    </tr>\n",
        "    <tr>\n",
        "      <th>1</th>\n",
        "      <td> 10012</td>\n",
        "      <td> 2014-05-05</td>\n",
        "      <td> COCO LADA 32OZ</td>\n",
        "      <td> 1</td>\n",
        "      <td> $13.99 </td>\n",
        "    </tr>\n",
        "    <tr>\n",
        "      <th>2</th>\n",
        "      <td> 10012</td>\n",
        "      <td> 2014-05-19</td>\n",
        "      <td> COCO LADA 32OZ</td>\n",
        "      <td> 1</td>\n",
        "      <td> $13.99 </td>\n",
        "    </tr>\n",
        "    <tr>\n",
        "      <th>3</th>\n",
        "      <td> 10012</td>\n",
        "      <td> 2014-05-26</td>\n",
        "      <td> COCO LADA 32OZ</td>\n",
        "      <td> 1</td>\n",
        "      <td> $13.99 </td>\n",
        "    </tr>\n",
        "    <tr>\n",
        "      <th>4</th>\n",
        "      <td> 10012</td>\n",
        "      <td> 2014-07-28</td>\n",
        "      <td> COCO LADA 32OZ</td>\n",
        "      <td> 1</td>\n",
        "      <td> $11.99 </td>\n",
        "    </tr>\n",
        "  </tbody>\n",
        "</table>\n",
        "<p>5 rows \u00d7 5 columns</p>\n",
        "</div>"
       ],
       "metadata": {},
       "output_type": "pyout",
       "prompt_number": 19,
       "text": [
        "   storenum week_starting             SKU  units    price\n",
        "0     10012    2014-04-14  COCO LADA 32OZ      1  $13.99 \n",
        "1     10012    2014-05-05  COCO LADA 32OZ      1  $13.99 \n",
        "2     10012    2014-05-19  COCO LADA 32OZ      1  $13.99 \n",
        "3     10012    2014-05-26  COCO LADA 32OZ      1  $13.99 \n",
        "4     10012    2014-07-28  COCO LADA 32OZ      1  $11.99 \n",
        "\n",
        "[5 rows x 5 columns]"
       ]
      }
     ],
     "prompt_number": 19
    },
    {
     "cell_type": "code",
     "collapsed": false,
     "input": [
      "wfm_sales['year'] = wfm_sales.week_starting.apply(lambda x: x.year)\n",
      "wfm_sales['month'] = wfm_sales.week_starting.apply(lambda x: x.month)\n",
      "wfm_sales['day'] = wfm_sales.week_starting.apply(lambda x: x.day)\n",
      "wfm_sales = wfm_sales[['storenum','year','month','day','SKU','units','price']]"
     ],
     "language": "python",
     "metadata": {},
     "outputs": [],
     "prompt_number": 20
    },
    {
     "cell_type": "code",
     "collapsed": false,
     "input": [
      "wfm_sales.price = wfm_sales.price.apply(lambda x: x if type(x) is float else x.replace('$',''))"
     ],
     "language": "python",
     "metadata": {},
     "outputs": [],
     "prompt_number": 21
    },
    {
     "cell_type": "code",
     "collapsed": false,
     "input": [
      "wfm_sales = wfm_sales.set_index('storenum')"
     ],
     "language": "python",
     "metadata": {},
     "outputs": [],
     "prompt_number": 22
    },
    {
     "cell_type": "code",
     "collapsed": false,
     "input": [
      "wfm_sales.to_csv(folder + 'wfm_sales.csv')\n",
      "wfm_sales.head()"
     ],
     "language": "python",
     "metadata": {},
     "outputs": [
      {
       "html": [
        "<div style=\"max-height:1000px;max-width:1500px;overflow:auto;\">\n",
        "<table border=\"1\" class=\"dataframe\">\n",
        "  <thead>\n",
        "    <tr style=\"text-align: right;\">\n",
        "      <th></th>\n",
        "      <th>year</th>\n",
        "      <th>month</th>\n",
        "      <th>day</th>\n",
        "      <th>SKU</th>\n",
        "      <th>units</th>\n",
        "      <th>price</th>\n",
        "    </tr>\n",
        "    <tr>\n",
        "      <th>storenum</th>\n",
        "      <th></th>\n",
        "      <th></th>\n",
        "      <th></th>\n",
        "      <th></th>\n",
        "      <th></th>\n",
        "      <th></th>\n",
        "    </tr>\n",
        "  </thead>\n",
        "  <tbody>\n",
        "    <tr>\n",
        "      <th>10012</th>\n",
        "      <td> 2014</td>\n",
        "      <td> 4</td>\n",
        "      <td> 14</td>\n",
        "      <td> COCO LADA 32OZ</td>\n",
        "      <td> 1</td>\n",
        "      <td> 13.99 </td>\n",
        "    </tr>\n",
        "    <tr>\n",
        "      <th>10012</th>\n",
        "      <td> 2014</td>\n",
        "      <td> 5</td>\n",
        "      <td>  5</td>\n",
        "      <td> COCO LADA 32OZ</td>\n",
        "      <td> 1</td>\n",
        "      <td> 13.99 </td>\n",
        "    </tr>\n",
        "    <tr>\n",
        "      <th>10012</th>\n",
        "      <td> 2014</td>\n",
        "      <td> 5</td>\n",
        "      <td> 19</td>\n",
        "      <td> COCO LADA 32OZ</td>\n",
        "      <td> 1</td>\n",
        "      <td> 13.99 </td>\n",
        "    </tr>\n",
        "    <tr>\n",
        "      <th>10012</th>\n",
        "      <td> 2014</td>\n",
        "      <td> 5</td>\n",
        "      <td> 26</td>\n",
        "      <td> COCO LADA 32OZ</td>\n",
        "      <td> 1</td>\n",
        "      <td> 13.99 </td>\n",
        "    </tr>\n",
        "    <tr>\n",
        "      <th>10012</th>\n",
        "      <td> 2014</td>\n",
        "      <td> 7</td>\n",
        "      <td> 28</td>\n",
        "      <td> COCO LADA 32OZ</td>\n",
        "      <td> 1</td>\n",
        "      <td> 11.99 </td>\n",
        "    </tr>\n",
        "  </tbody>\n",
        "</table>\n",
        "<p>5 rows \u00d7 6 columns</p>\n",
        "</div>"
       ],
       "metadata": {},
       "output_type": "pyout",
       "prompt_number": 23,
       "text": [
        "          year  month  day             SKU  units   price\n",
        "storenum                                                 \n",
        "10012     2014      4   14  COCO LADA 32OZ      1  13.99 \n",
        "10012     2014      5    5  COCO LADA 32OZ      1  13.99 \n",
        "10012     2014      5   19  COCO LADA 32OZ      1  13.99 \n",
        "10012     2014      5   26  COCO LADA 32OZ      1  13.99 \n",
        "10012     2014      7   28  COCO LADA 32OZ      1  11.99 \n",
        "\n",
        "[5 rows x 6 columns]"
       ]
      }
     ],
     "prompt_number": 23
    },
    {
     "cell_type": "code",
     "collapsed": false,
     "input": [
      "wfm_sales.units.sum()"
     ],
     "language": "python",
     "metadata": {},
     "outputs": [
      {
       "metadata": {},
       "output_type": "pyout",
       "prompt_number": 24,
       "text": [
        "2669"
       ]
      }
     ],
     "prompt_number": 24
    },
    {
     "cell_type": "code",
     "collapsed": false,
     "input": [
      "wfm_sales['idx'] = range(len(wfm_sales))\n",
      "wfm_sales['storenum'] = wfm_sales.index\n",
      "wfm_sales.head()"
     ],
     "language": "python",
     "metadata": {},
     "outputs": [
      {
       "html": [
        "<div style=\"max-height:1000px;max-width:1500px;overflow:auto;\">\n",
        "<table border=\"1\" class=\"dataframe\">\n",
        "  <thead>\n",
        "    <tr style=\"text-align: right;\">\n",
        "      <th></th>\n",
        "      <th>year</th>\n",
        "      <th>month</th>\n",
        "      <th>day</th>\n",
        "      <th>SKU</th>\n",
        "      <th>units</th>\n",
        "      <th>price</th>\n",
        "      <th>idx</th>\n",
        "      <th>storenum</th>\n",
        "    </tr>\n",
        "    <tr>\n",
        "      <th>storenum</th>\n",
        "      <th></th>\n",
        "      <th></th>\n",
        "      <th></th>\n",
        "      <th></th>\n",
        "      <th></th>\n",
        "      <th></th>\n",
        "      <th></th>\n",
        "      <th></th>\n",
        "    </tr>\n",
        "  </thead>\n",
        "  <tbody>\n",
        "    <tr>\n",
        "      <th>10012</th>\n",
        "      <td> 2014</td>\n",
        "      <td> 4</td>\n",
        "      <td> 14</td>\n",
        "      <td> COCO LADA 32OZ</td>\n",
        "      <td> 1</td>\n",
        "      <td> 13.99 </td>\n",
        "      <td> 0</td>\n",
        "      <td> 10012</td>\n",
        "    </tr>\n",
        "    <tr>\n",
        "      <th>10012</th>\n",
        "      <td> 2014</td>\n",
        "      <td> 5</td>\n",
        "      <td>  5</td>\n",
        "      <td> COCO LADA 32OZ</td>\n",
        "      <td> 1</td>\n",
        "      <td> 13.99 </td>\n",
        "      <td> 1</td>\n",
        "      <td> 10012</td>\n",
        "    </tr>\n",
        "    <tr>\n",
        "      <th>10012</th>\n",
        "      <td> 2014</td>\n",
        "      <td> 5</td>\n",
        "      <td> 19</td>\n",
        "      <td> COCO LADA 32OZ</td>\n",
        "      <td> 1</td>\n",
        "      <td> 13.99 </td>\n",
        "      <td> 2</td>\n",
        "      <td> 10012</td>\n",
        "    </tr>\n",
        "    <tr>\n",
        "      <th>10012</th>\n",
        "      <td> 2014</td>\n",
        "      <td> 5</td>\n",
        "      <td> 26</td>\n",
        "      <td> COCO LADA 32OZ</td>\n",
        "      <td> 1</td>\n",
        "      <td> 13.99 </td>\n",
        "      <td> 3</td>\n",
        "      <td> 10012</td>\n",
        "    </tr>\n",
        "    <tr>\n",
        "      <th>10012</th>\n",
        "      <td> 2014</td>\n",
        "      <td> 7</td>\n",
        "      <td> 28</td>\n",
        "      <td> COCO LADA 32OZ</td>\n",
        "      <td> 1</td>\n",
        "      <td> 11.99 </td>\n",
        "      <td> 4</td>\n",
        "      <td> 10012</td>\n",
        "    </tr>\n",
        "  </tbody>\n",
        "</table>\n",
        "<p>5 rows \u00d7 8 columns</p>\n",
        "</div>"
       ],
       "metadata": {},
       "output_type": "pyout",
       "prompt_number": 25,
       "text": [
        "          year  month  day             SKU  units   price  idx  storenum\n",
        "storenum                                                                \n",
        "10012     2014      4   14  COCO LADA 32OZ      1  13.99     0     10012\n",
        "10012     2014      5    5  COCO LADA 32OZ      1  13.99     1     10012\n",
        "10012     2014      5   19  COCO LADA 32OZ      1  13.99     2     10012\n",
        "10012     2014      5   26  COCO LADA 32OZ      1  13.99     3     10012\n",
        "10012     2014      7   28  COCO LADA 32OZ      1  11.99     4     10012\n",
        "\n",
        "[5 rows x 8 columns]"
       ]
      }
     ],
     "prompt_number": 25
    },
    {
     "cell_type": "code",
     "collapsed": false,
     "input": [
      "wfm_sales.set_index('idx', inplace = True)"
     ],
     "language": "python",
     "metadata": {},
     "outputs": [],
     "prompt_number": 26
    },
    {
     "cell_type": "code",
     "collapsed": false,
     "input": [
      "wfm_sales = wfm_sales[['storenum','year','month','day','SKU','units','price']]"
     ],
     "language": "python",
     "metadata": {},
     "outputs": [],
     "prompt_number": 27
    },
    {
     "cell_type": "code",
     "collapsed": false,
     "input": [
      "def sku(x):\n",
      "    new = ''\n",
      "    name = x.split(' ')\n",
      "    for n in name[:-1]:\n",
      "        new += n[0].upper() + n[1:].lower() + ' '\n",
      "    if new[0] == 'C':\n",
      "        new = 'Coco-Lada '\n",
      "    return new + name[-1]\n",
      "\n",
      "wfm_sales.SKU = wfm_sales.SKU.apply(lambda x: sku(x))\n",
      "wfm_sales.tail()"
     ],
     "language": "python",
     "metadata": {},
     "outputs": [
      {
       "html": [
        "<div style=\"max-height:1000px;max-width:1500px;overflow:auto;\">\n",
        "<table border=\"1\" class=\"dataframe\">\n",
        "  <thead>\n",
        "    <tr style=\"text-align: right;\">\n",
        "      <th></th>\n",
        "      <th>storenum</th>\n",
        "      <th>year</th>\n",
        "      <th>month</th>\n",
        "      <th>day</th>\n",
        "      <th>SKU</th>\n",
        "      <th>units</th>\n",
        "      <th>price</th>\n",
        "    </tr>\n",
        "    <tr>\n",
        "      <th>idx</th>\n",
        "      <th></th>\n",
        "      <th></th>\n",
        "      <th></th>\n",
        "      <th></th>\n",
        "      <th></th>\n",
        "      <th></th>\n",
        "      <th></th>\n",
        "    </tr>\n",
        "  </thead>\n",
        "  <tbody>\n",
        "    <tr>\n",
        "      <th>1961</th>\n",
        "      <td> 10437</td>\n",
        "      <td> 2014</td>\n",
        "      <td> 11</td>\n",
        "      <td> 17</td>\n",
        "      <td> Pink &amp; Black 8OZ</td>\n",
        "      <td> 1</td>\n",
        "      <td> 7.99 </td>\n",
        "    </tr>\n",
        "    <tr>\n",
        "      <th>1962</th>\n",
        "      <td> 10437</td>\n",
        "      <td> 2014</td>\n",
        "      <td> 11</td>\n",
        "      <td> 24</td>\n",
        "      <td> Pink &amp; Black 8OZ</td>\n",
        "      <td> 1</td>\n",
        "      <td> 7.99 </td>\n",
        "    </tr>\n",
        "    <tr>\n",
        "      <th>1963</th>\n",
        "      <td> 10437</td>\n",
        "      <td> 2014</td>\n",
        "      <td> 12</td>\n",
        "      <td>  1</td>\n",
        "      <td> Pink &amp; Black 8OZ</td>\n",
        "      <td> 1</td>\n",
        "      <td> 7.99 </td>\n",
        "    </tr>\n",
        "    <tr>\n",
        "      <th>1964</th>\n",
        "      <td> 10437</td>\n",
        "      <td> 2014</td>\n",
        "      <td> 11</td>\n",
        "      <td> 17</td>\n",
        "      <td>  The Classic 8OZ</td>\n",
        "      <td> 2</td>\n",
        "      <td> 7.99 </td>\n",
        "    </tr>\n",
        "    <tr>\n",
        "      <th>1965</th>\n",
        "      <td> 10437</td>\n",
        "      <td> 2014</td>\n",
        "      <td> 12</td>\n",
        "      <td>  1</td>\n",
        "      <td>  The Classic 8OZ</td>\n",
        "      <td> 2</td>\n",
        "      <td> 7.99 </td>\n",
        "    </tr>\n",
        "  </tbody>\n",
        "</table>\n",
        "<p>5 rows \u00d7 7 columns</p>\n",
        "</div>"
       ],
       "metadata": {},
       "output_type": "pyout",
       "prompt_number": 28,
       "text": [
        "      storenum  year  month  day               SKU  units  price\n",
        "idx                                                             \n",
        "1961     10437  2014     11   17  Pink & Black 8OZ      1  7.99 \n",
        "1962     10437  2014     11   24  Pink & Black 8OZ      1  7.99 \n",
        "1963     10437  2014     12    1  Pink & Black 8OZ      1  7.99 \n",
        "1964     10437  2014     11   17   The Classic 8OZ      2  7.99 \n",
        "1965     10437  2014     12    1   The Classic 8OZ      2  7.99 \n",
        "\n",
        "[5 rows x 7 columns]"
       ]
      }
     ],
     "prompt_number": 28
    },
    {
     "cell_type": "code",
     "collapsed": false,
     "input": [
      "len(wfm_sales)"
     ],
     "language": "python",
     "metadata": {},
     "outputs": [
      {
       "metadata": {},
       "output_type": "pyout",
       "prompt_number": 29,
       "text": [
        "1966"
       ]
      }
     ],
     "prompt_number": 29
    },
    {
     "cell_type": "code",
     "collapsed": false,
     "input": [
      "import numpy as np\n",
      "\n",
      "string = 'INSERT INTO owlsbrew.wfm_sales VALUES'\n",
      "\n",
      "for i in range(len(wfm_sales)):\n",
      "    string += '('\n",
      "    for c in wfm_sales.columns:\n",
      "        if type(wfm_sales.loc[i,c]) == float and math.isnan(wfm_sales.loc[i,c]):\n",
      "            string += 'NULL, '\n",
      "        elif c in ['storenum','year','month','day','units','price']:\n",
      "            string += str(wfm_sales.loc[i,c]) + ','\n",
      "        else:\n",
      "            string += \" '\" + wfm_sales.loc[i,c] + \"', \"\n",
      "    string = string[:-2]\n",
      "    string += '),'\n",
      "string = string[:-1]   \n",
      "string"
     ],
     "language": "python",
     "metadata": {},
     "outputs": [
      {
       "metadata": {},
       "output_type": "pyout",
       "prompt_number": 30,
       "text": [
        "\"INSERT INTO owlsbrew.wfm_sales VALUES(10012,2014,4,14, 'Coco-Lada 32OZ', 1,13.99),(10012,2014,5,5, 'Coco-Lada 32OZ', 1,13.99),(10012,2014,5,19, 'Coco-Lada 32OZ', 1,13.99),(10012,2014,5,26, 'Coco-Lada 32OZ', 1,13.99),(10012,2014,7,28, 'Coco-Lada 32OZ', 1,11.99),(10012,2014,9,29, 'Coco-Lada 32OZ', 1,13.99),(10012,2014,10,13, 'Coco-Lada 32OZ', 1,13.99),(10012,2014,10,20, 'Coco-Lada 32OZ', 1,13.99),(10012,2014,11,17, 'Coco-Lada 32OZ', 2,13.99),(10012,2014,12,1, 'Coco-Lada 32OZ', 2,13.99),(10012,2014,12,15, 'Coco-Lada 32OZ', 4,11.99),(10012,2014,3,31, 'Pink & Black 32OZ', 1,13.99),(10012,2014,4,14, 'Pink & Black 32OZ', 1,13.99),(10012,2014,4,21, 'Pink & Black 32OZ', 1,13.99),(10012,2014,5,12, 'Pink & Black 32OZ', 1,13.99),(10012,2014,5,19, 'Pink & Black 32OZ', 1,13.99),(10012,2014,6,23, 'Pink & Black 32OZ', 1,13.99),(10012,2014,6,30, 'Pink & Black 32OZ', 1,13.99),(10012,2014,7,7, 'Pink & Black 32OZ', 1,13.99),(10012,2014,7,21, 'Pink & Black 32OZ', 1,11.99),(10012,2014,7,28, 'Pink & Black 32OZ', 2,11.99),(10012,2014,8,25, 'Pink & Black 32OZ', 2,13.99),(10012,2014,9,1, 'Pink & Black 32OZ', 1,13.99),(10012,2014,9,22, 'Pink & Black 32OZ', 2,13.99),(10012,2014,10,6, 'Pink & Black 32OZ', 1,13.99),(10012,2014,11,17, 'Pink & Black 32OZ', 2,13.99),(10012,2014,12,1, 'Pink & Black 32OZ', 0,NULL),(10012,2014,12,8, 'Pink & Black 32OZ', 1,11.99),(10012,2014,12,15, 'Pink & Black 32OZ', 1,11.99),(10012,2014,3,24, 'The Classic 32OZ', 1,13.99),(10012,2014,4,21, 'The Classic 32OZ', 1,13.99),(10012,2014,5,5, 'The Classic 32OZ', 1,13.99),(10012,2014,6,2, 'The Classic 32OZ', 1,13.99),(10012,2014,6,16, 'The Classic 32OZ', 1,13.99),(10012,2014,6,30, 'The Classic 32OZ', 1,13.99),(10012,2014,7,21, 'The Classic 32OZ', 1,11.99),(10012,2014,8,18, 'The Classic 32OZ', 1,13.99),(10012,2014,9,1, 'The Classic 32OZ', 1,13.99),(10012,2014,9,22, 'The Classic 32OZ', 2,13.99),(10012,2014,10,13, 'The Classic 32OZ', 1,13.99),(10012,2014,10,20, 'The Classic 32OZ', 2,13.99),(10012,2014,11,17, 'The Classic 32OZ', 1,13.99),(10013,2014,12,1, 'Coco-Lada 32OZ', 1,13.99),(10013,2014,3,17, 'Pink & Black 32OZ', 1,13.99),(10013,2014,5,26, 'Pink & Black 32OZ', 1,13.99),(10013,2014,6,2, 'Pink & Black 32OZ', 1,13.99),(10013,2014,6,30, 'Pink & Black 32OZ', 1,13.99),(10013,2014,7,7, 'Pink & Black 32OZ', 1,13.99),(10013,2014,7,28, 'Pink & Black 32OZ', 1,11.99),(10013,2014,11,3, 'Pink & Black 32OZ', 1,13.99),(10013,2014,11,17, 'Pink & Black 32OZ', 1,13.99),(10013,2014,11,24, 'Pink & Black 32OZ', 1,13.99),(10013,2014,12,8, 'Pink & Black 32OZ', 3,11.99),(10013,2014,12,15, 'Pink & Black 32OZ', 1,11.99),(10013,2014,5,26, 'The Classic 32OZ', 6,13.99),(10013,2014,7,28, 'The Classic 32OZ', 1,11.99),(10013,2014,8,11, 'The Classic 32OZ', 1,13.99),(10013,2014,9,22, 'The Classic 32OZ', 1,13.99),(10013,2014,11,24, 'The Classic 32OZ', 1,13.99),(10013,2014,12,8, 'The Classic 32OZ', 1,11.99),(10013,2014,12,15, 'The Classic 32OZ', 1,11.99),(10014,2014,9,15, 'Coco-Lada 32OZ', 1,13.99),(10014,2014,12,8, 'Coco-Lada 32OZ', 1,11.99),(10014,2014,3,31, 'Pink & Black 32OZ', 1,13.99),(10014,2014,5,12, 'Pink & Black 32OZ', 1,13.99),(10014,2014,5,26, 'Pink & Black 32OZ', 1,13.99),(10014,2014,7,14, 'Pink & Black 32OZ', 1,13.99),(10014,2014,9,15, 'Pink & Black 32OZ', 1,13.99),(10014,2014,9,22, 'Pink & Black 32OZ', 1,13.99),(10014,2014,9,29, 'Pink & Black 32OZ', 1,13.99),(10014,2014,10,27, 'Pink & Black 32OZ', 1,13.99),(10014,2014,11,10, 'Pink & Black 32OZ', -1,13.99),(10014,2014,11,17, 'Pink & Black 32OZ', 1,13.99),(10014,2014,11,24, 'Pink & Black 32OZ', 1,13.99),(10014,2014,12,1, 'Pink & Black 32OZ', 1,13.99),(10014,2014,7,7, 'The Classic 32OZ', 1,13.99),(10014,2014,12,1, 'The Classic 32OZ', 1,13.99),(10015,2014,3,24, 'Coco-Lada 32OZ', 0,NULL),(10015,2014,4,28, 'Coco-Lada 32OZ', 1,13.99),(10015,2014,5,12, 'Coco-Lada 32OZ', 3,13.99),(10015,2014,5,26, 'Coco-Lada 32OZ', 1,13.99),(10015,2014,7,7, 'Coco-Lada 32OZ', 1,13.99),(10015,2014,7,14, 'Coco-Lada 32OZ', 1,13.99),(10015,2014,8,4, 'Coco-Lada 32OZ', 1,13.99),(10015,2014,3,31, 'Pink & Black 32OZ', 1,13.99),(10015,2014,4,7, 'Pink & Black 32OZ', 2,13.99),(10015,2014,4,21, 'Pink & Black 32OZ', 2,13.99),(10015,2014,4,28, 'Pink & Black 32OZ', 4,13.99),(10015,2014,5,12, 'Pink & Black 32OZ', 8,13.99),(10015,2014,5,26, 'Pink & Black 32OZ', 1,13.99),(10015,2014,6,2, 'Pink & Black 32OZ', 2,13.99),(10015,2014,6,9, 'Pink & Black 32OZ', 2,13.99),(10015,2014,6,16, 'Pink & Black 32OZ', 3,13.99),(10015,2014,6,23, 'Pink & Black 32OZ', 1,13.99),(10015,2014,7,14, 'Pink & Black 32OZ', 1,13.99),(10015,2014,7,21, 'Pink & Black 32OZ', 3,12.66),(10015,2014,7,28, 'Pink & Black 32OZ', 1,11.99),(10015,2014,8,4, 'Pink & Black 32OZ', 3,12.66),(10015,2014,9,1, 'Pink & Black 32OZ', 1,13.99),(10015,2014,9,8, 'Pink & Black 32OZ', 1,13.99),(10015,2014,9,22, 'Pink & Black 32OZ', 2,13.99),(10015,2014,11,3, 'Pink & Black 32OZ', 1,13.99),(10015,2014,11,10, 'Pink & Black 32OZ', 1,13.99),(10015,2014,11,24, 'Pink & Black 32OZ', 2,13.99),(10015,2014,12,15, 'Pink & Black 32OZ', 3,11.99),(10015,2014,8,25, 'Syrup Cocktail Coco Lada 32OZ', 1,13.99),(10015,2014,9,22, 'Syrup Cocktail Coco Lada 32OZ', 1,13.99),(10015,2014,10,20, 'Syrup Cocktail Coco Lada 32OZ', 1,13.99),(10015,2014,12,15, 'Syrup Cocktail Coco Lada 32OZ', 2,11.99),(10015,2014,3,24, 'The Classic 32OZ', 1,13.99),(10015,2014,4,7, 'The Classic 32OZ', 1,13.99),(10015,2014,4,14, 'The Classic 32OZ', 1,13.99),(10015,2014,4,21, 'The Classic 32OZ', 1,13.99),(10015,2014,4,28, 'The Classic 32OZ', 1,13.99),(10015,2014,5,5, 'The Classic 32OZ', 7,13.99),(10015,2014,5,12, 'The Classic 32OZ', 3,13.99),(10015,2014,5,19, 'The Classic 32OZ', 1,13.99),(10015,2014,7,21, 'The Classic 32OZ', 1,11.99),(10015,2014,8,18, 'The Classic 32OZ', 1,13.99),(10015,2014,8,25, 'The Classic 32OZ', 1,13.99),(10015,2014,9,1, 'The Classic 32OZ', 1,13.99),(10015,2014,9,22, 'The Classic 32OZ', 1,13.99),(10015,2014,10,6, 'The Classic 32OZ', 1,13.99),(10015,2014,10,20, 'The Classic 32OZ', 1,13.99),(10015,2014,11,17, 'The Classic 32OZ', 4,13.99),(10015,2014,12,1, 'The Classic 32OZ', 1,13.99),(10015,2014,12,15, 'The Classic 32OZ', 2,11.99),(10026,2014,3,24, 'Coco-Lada 32OZ', 1,13.99),(10026,2014,4,28, 'Coco-Lada 32OZ', 2,13.99),(10026,2014,7,7, 'Coco-Lada 32OZ', 1,13.99),(10026,2014,9,29, 'Coco-Lada 32OZ', 1,13.99),(10026,2014,10,13, 'Coco-Lada 32OZ', 1,13.99),(10026,2014,10,27, 'Coco-Lada 32OZ', 1,13.99),(10026,2014,3,24, 'Pink & Black 32OZ', 1,13.99),(10026,2014,4,7, 'Pink & Black 32OZ', 1,13.99),(10026,2014,4,14, 'Pink & Black 32OZ', 1,13.99),(10026,2014,4,21, 'Pink & Black 32OZ', 1,13.99),(10026,2014,4,28, 'Pink & Black 32OZ', 2,13.99),(10026,2014,5,12, 'Pink & Black 32OZ', 1,13.99),(10026,2014,6,9, 'Pink & Black 32OZ', 1,13.99),(10026,2014,6,16, 'Pink & Black 32OZ', 1,13.99),(10026,2014,7,7, 'Pink & Black 32OZ', 2,13.99),(10026,2014,7,28, 'Pink & Black 32OZ', 1,11.99),(10026,2014,8,18, 'Pink & Black 32OZ', 1,13.99),(10026,2014,8,25, 'Pink & Black 32OZ', 2,13.99),(10026,2014,9,29, 'Pink & Black 32OZ', 1,13.99),(10026,2014,10,6, 'Pink & Black 32OZ', 2,13.99),(10026,2014,11,10, 'Pink & Black 32OZ', 1,13.99),(10026,2014,11,24, 'Pink & Black 32OZ', 1,13.99),(10026,2014,12,8, 'Pink & Black 32OZ', 1,11.99),(10026,2014,3,17, 'The Classic 32OZ', 2,13.99),(10026,2014,4,14, 'The Classic 32OZ', 1,13.99),(10026,2014,4,21, 'The Classic 32OZ', 4,13.99),(10026,2014,4,28, 'The Classic 32OZ', 6,13.99),(10026,2014,5,5, 'The Classic 32OZ', 1,13.99),(10026,2014,5,19, 'The Classic 32OZ', 1,13.99),(10026,2014,6,16, 'The Classic 32OZ', 2,13.99),(10026,2014,7,14, 'The Classic 32OZ', 2,13.99),(10026,2014,8,4, 'The Classic 32OZ', 1,13.99),(10026,2014,8,11, 'The Classic 32OZ', 1,13.99),(10026,2014,8,18, 'The Classic 32OZ', 1,13.99),(10026,2014,8,25, 'The Classic 32OZ', 1,13.99),(10026,2014,9,1, 'The Classic 32OZ', 1,13.99),(10026,2014,9,15, 'The Classic 32OZ', 1,13.99),(10026,2014,10,6, 'The Classic 32OZ', 1,13.99),(10026,2014,10,13, 'The Classic 32OZ', 1,13.99),(10026,2014,10,20, 'The Classic 32OZ', 1,13.99),(10026,2014,11,3, 'The Classic 32OZ', 1,13.99),(10026,2014,11,17, 'The Classic 32OZ', 1,13.99),(10026,2014,12,1, 'The Classic 32OZ', 1,13.99),(10026,2014,12,8, 'The Classic 32OZ', 1,11.99),(10026,2014,12,15, 'The Classic 32OZ', 1,11.99),(10031,2014,3,24, 'Coco-Lada 32OZ', 1,13.99),(10031,2014,3,31, 'Coco-Lada 32OZ', 1,13.99),(10031,2014,4,21, 'Coco-Lada 32OZ', 1,13.99),(10031,2014,4,28, 'Coco-Lada 32OZ', 1,13.99),(10031,2014,5,5, 'Coco-Lada 32OZ', 0,NULL),(10031,2014,6,9, 'Coco-Lada 32OZ', 1,13.99),(10031,2014,6,16, 'Coco-Lada 32OZ', 1,13.99),(10031,2014,7,7, 'Coco-Lada 32OZ', 1,13.99),(10031,2014,7,21, 'Coco-Lada 32OZ', 1,11.99),(10031,2014,8,4, 'Coco-Lada 32OZ', 1,13.99),(10031,2014,9,1, 'Coco-Lada 32OZ', 2,13.99),(10031,2014,9,8, 'Coco-Lada 32OZ', 1,13.99),(10031,2014,9,15, 'Coco-Lada 32OZ', 1,13.99),(10031,2014,10,6, 'Coco-Lada 32OZ', 2,13.99),(10031,2014,10,27, 'Coco-Lada 32OZ', 1,13.99),(10031,2014,3,10, 'Pink & Black 32OZ', 1,13.99),(10031,2014,3,17, 'Pink & Black 32OZ', 1,13.99),(10031,2014,3,24, 'Pink & Black 32OZ', 1,13.99),(10031,2014,4,14, 'Pink & Black 32OZ', 1,13.99),(10031,2014,4,21, 'Pink & Black 32OZ', 1,13.99),(10031,2014,5,5, 'Pink & Black 32OZ', 1,13.99),(10031,2014,5,12, 'Pink & Black 32OZ', 2,13.99),(10031,2014,6,9, 'Pink & Black 32OZ', 1,13.99),(10031,2014,6,16, 'Pink & Black 32OZ', 1,13.99),(10031,2014,7,14, 'Pink & Black 32OZ', 1,13.99),(10031,2014,7,21, 'Pink & Black 32OZ', 1,11.99),(10031,2014,8,4, 'Pink & Black 32OZ', 1,13.99),(10031,2014,8,11, 'Pink & Black 32OZ', 1,13.99),(10031,2014,9,29, 'Pink & Black 32OZ', 1,13.99),(10031,2014,10,20, 'Pink & Black 32OZ', 2,13.99),(10031,2014,10,27, 'Pink & Black 32OZ', 1,13.99),(10031,2014,4,14, 'The Classic 32OZ', 1,13.99),(10031,2014,4,21, 'The Classic 32OZ', 1,13.99),(10031,2014,5,12, 'The Classic 32OZ', 1,13.99),(10031,2014,5,26, 'The Classic 32OZ', 1,13.99),(10031,2014,6,2, 'The Classic 32OZ', 1,13.99),(10031,2014,7,14, 'The Classic 32OZ', 1,13.99),(10031,2014,8,11, 'The Classic 32OZ', 1,13.99),(10031,2014,9,8, 'The Classic 32OZ', 2,13.99),(10031,2014,9,22, 'The Classic 32OZ', 1,13.99),(10031,2014,10,13, 'The Classic 32OZ', 1,13.99),(10090,2014,3,10, 'Coco-Lada 32OZ', 1,13.99),(10090,2014,3,31, 'Coco-Lada 32OZ', 1,13.99),(10090,2014,4,7, 'Coco-Lada 32OZ', 1,13.99),(10090,2014,6,16, 'Coco-Lada 32OZ', 1,13.99),(10090,2014,7,7, 'Coco-Lada 32OZ', 1,13.99),(10090,2014,7,28, 'Coco-Lada 32OZ', 1,11.99),(10090,2014,10,6, 'Coco-Lada 32OZ', 1,13.99),(10090,2014,12,8, 'Coco-Lada 32OZ', 2,11.99),(10090,2014,3,10, 'Pink & Black 32OZ', 1,13.99),(10090,2014,3,17, 'Pink & Black 32OZ', 2,13.99),(10090,2014,3,31, 'Pink & Black 32OZ', 1,13.99),(10090,2014,4,7, 'Pink & Black 32OZ', 1,13.99),(10090,2014,4,21, 'Pink & Black 32OZ', 1,13.99),(10090,2014,4,28, 'Pink & Black 32OZ', 2,13.99),(10090,2014,5,5, 'Pink & Black 32OZ', 1,13.99),(10090,2014,5,19, 'Pink & Black 32OZ', 1,13.99),(10090,2014,8,4, 'Pink & Black 32OZ', 2,12.99),(10090,2014,12,8, 'Pink & Black 32OZ', 3,11.99),(10090,2014,12,15, 'Pink & Black 32OZ', 1,11.99),(10090,2014,5,5, 'The Classic 32OZ', 1,13.99),(10090,2014,6,2, 'The Classic 32OZ', 1,13.99),(10090,2014,6,9, 'The Classic 32OZ', 1,13.99),(10090,2014,7,7, 'The Classic 32OZ', 1,13.99),(10090,2014,8,4, 'The Classic 32OZ', 1,13.99),(10090,2014,11,10, 'The Classic 32OZ', 1,13.99),(10090,2014,12,8, 'The Classic 32OZ', 3,11.99),(10091,2014,3,31, 'Coco-Lada 32OZ', 1,13.99),(10091,2014,5,26, 'Coco-Lada 32OZ', 1,13.99),(10091,2014,6,2, 'Coco-Lada 32OZ', 2,13.99),(10091,2014,8,18, 'Coco-Lada 32OZ', 1,13.99),(10091,2014,8,25, 'Coco-Lada 32OZ', 1,13.99),(10091,2014,9,15, 'Coco-Lada 32OZ', 1,13.99),(10091,2014,10,6, 'Coco-Lada 32OZ', 1,13.99),(10091,2014,10,13, 'Coco-Lada 32OZ', 1,13.99),(10091,2014,10,20, 'Coco-Lada 32OZ', 1,13.99),(10091,2014,11,10, 'Coco-Lada 32OZ', 1,13.99),(10091,2014,12,8, 'Coco-Lada 32OZ', 1,11.99),(10091,2014,3,10, 'Pink & Black 32OZ', 1,13.99),(10091,2014,3,24, 'Pink & Black 32OZ', 2,13.99),(10091,2014,4,21, 'Pink & Black 32OZ', 2,13.99),(10091,2014,5,5, 'Pink & Black 32OZ', 1,13.99),(10091,2014,5,26, 'Pink & Black 32OZ', 1,13.99),(10091,2014,6,23, 'Pink & Black 32OZ', 1,13.99),(10091,2014,6,30, 'Pink & Black 32OZ', 1,13.99),(10091,2014,7,21, 'Pink & Black 32OZ', 1,11.99),(10091,2014,7,28, 'Pink & Black 32OZ', 1,11.99),(10091,2014,11,10, 'Pink & Black 32OZ', 1,13.99),(10091,2014,11,17, 'Pink & Black 32OZ', 1,13.99),(10091,2014,12,8, 'Pink & Black 32OZ', 1,11.99),(10091,2014,3,24, 'The Classic 32OZ', 2,13.99),(10091,2014,5,5, 'The Classic 32OZ', 1,13.99),(10091,2014,6,30, 'The Classic 32OZ', 1,13.99),(10091,2014,7,7, 'The Classic 32OZ', 1,13.99),(10091,2014,7,14, 'The Classic 32OZ', 1,13.99),(10091,2014,7,21, 'The Classic 32OZ', 1,11.99),(10091,2014,8,11, 'The Classic 32OZ', 1,13.99),(10091,2014,9,8, 'The Classic 32OZ', 2,13.99),(10091,2014,9,15, 'The Classic 32OZ', 1,13.99),(10091,2014,12,8, 'The Classic 32OZ', 3,11.99),(10092,2014,3,17, 'Coco-Lada 32OZ', 1,13.99),(10092,2014,3,24, 'Coco-Lada 32OZ', 1,13.99),(10092,2014,5,26, 'Coco-Lada 32OZ', 1,13.99),(10092,2014,6,9, 'Coco-Lada 32OZ', 1,13.99),(10092,2014,7,7, 'Coco-Lada 32OZ', 1,13.99),(10092,2014,7,21, 'Coco-Lada 32OZ', 1,11.99),(10092,2014,8,11, 'Coco-Lada 32OZ', 1,13.99),(10092,2014,8,18, 'Coco-Lada 32OZ', 1,13.99),(10092,2014,9,1, 'Coco-Lada 32OZ', 1,13.99),(10092,2014,11,3, 'Coco-Lada 32OZ', 1,13.99),(10092,2014,11,10, 'Coco-Lada 32OZ', 1,13.99),(10092,2014,12,15, 'Coco-Lada 32OZ', 1,11.99),(10092,2014,3,24, 'Pink & Black 32OZ', 1,13.99),(10092,2014,4,28, 'Pink & Black 32OZ', 1,13.99),(10092,2014,5,12, 'Pink & Black 32OZ', 2,13.99),(10092,2014,5,19, 'Pink & Black 32OZ', 1,13.99),(10092,2014,5,26, 'Pink & Black 32OZ', 2,13.99),(10092,2014,6,30, 'Pink & Black 32OZ', 1,13.99),(10092,2014,7,7, 'Pink & Black 32OZ', 1,13.99),(10092,2014,7,14, 'Pink & Black 32OZ', 1,13.99),(10092,2014,7,28, 'Pink & Black 32OZ', 1,11.99),(10092,2014,8,11, 'Pink & Black 32OZ', 1,13.99),(10092,2014,10,27, 'Pink & Black 32OZ', 1,13.99),(10092,2014,11,10, 'Pink & Black 32OZ', 1,13.99),(10092,2014,12,1, 'Pink & Black 32OZ', 1,13.99),(10092,2014,12,15, 'Pink & Black 32OZ', 1,11.99),(10092,2014,5,12, 'The Classic 32OZ', 1,13.99),(10092,2014,6,23, 'The Classic 32OZ', 2,13.99),(10092,2014,7,7, 'The Classic 32OZ', 1,13.99),(10092,2014,8,11, 'The Classic 32OZ', 1,13.99),(10092,2014,8,18, 'The Classic 32OZ', 1,13.99),(10092,2014,9,15, 'The Classic 32OZ', 1,13.99),(10092,2014,11,17, 'The Classic 32OZ', 1,13.99),(10092,2014,12,1, 'The Classic 32OZ', 1,13.99),(10092,2014,12,15, 'The Classic 32OZ', 1,11.99),(10092,2014,12,22, 'The Classic 32OZ', 1,13.99),(10093,2014,3,10, 'Coco-Lada 32OZ', 1,13.99),(10093,2014,5,12, 'Coco-Lada 32OZ', 1,13.99),(10093,2014,7,14, 'Coco-Lada 32OZ', 1,13.99),(10093,2014,8,25, 'Coco-Lada 32OZ', 1,13.99),(10093,2014,9,22, 'Coco-Lada 32OZ', -1,13.99),(10093,2014,3,31, 'Pink & Black 32OZ', 1,13.99),(10093,2014,4,14, 'Pink & Black 32OZ', 1,13.99),(10093,2014,5,12, 'Pink & Black 32OZ', 1,13.99),(10093,2014,5,26, 'Pink & Black 32OZ', 1,13.99),(10093,2014,6,2, 'Pink & Black 32OZ', 1,13.99),(10093,2014,6,16, 'Pink & Black 32OZ', 1,13.99),(10093,2014,7,28, 'Pink & Black 32OZ', 1,11.99),(10093,2014,9,8, 'Pink & Black 32OZ', 1,13.99),(10093,2014,11,10, 'Syrup Cocktail Coco Lada 32OZ', 1,13.99),(10093,2014,12,1, 'Syrup Cocktail Coco Lada 32OZ', 1,13.99),(10093,2014,12,15, 'Syrup Cocktail Coco Lada 32OZ', 1,11.99),(10093,2014,3,24, 'The Classic 32OZ', 1,13.99),(10093,2014,4,14, 'The Classic 32OZ', 1,13.99),(10093,2014,4,21, 'The Classic 32OZ', 1,13.99),(10093,2014,5,5, 'The Classic 32OZ', 1,13.99),(10093,2014,5,12, 'The Classic 32OZ', 1,13.99),(10093,2014,7,14, 'The Classic 32OZ', 1,13.99),(10093,2014,8,18, 'The Classic 32OZ', 1,13.99),(10093,2014,9,22, 'The Classic 32OZ', 2,13.99),(10093,2014,12,1, 'The Classic 32OZ', 1,13.99),(10111,2014,3,10, 'Coco-Lada 32OZ', 1,13.99),(10111,2014,3,17, 'Coco-Lada 32OZ', 1,13.99),(10111,2014,3,24, 'Coco-Lada 32OZ', 1,13.99),(10111,2014,4,14, 'Coco-Lada 32OZ', 1,13.99),(10111,2014,6,23, 'Coco-Lada 32OZ', 3,13.99),(10111,2014,7,14, 'Coco-Lada 32OZ', 1,13.99),(10111,2014,9,15, 'Coco-Lada 32OZ', 1,13.99),(10111,2014,9,29, 'Coco-Lada 32OZ', 1,13.99),(10111,2014,10,27, 'Coco-Lada 32OZ', 1,13.99),(10111,2014,11,17, 'Coco-Lada 32OZ', 1,13.99),(10111,2014,12,1, 'Coco-Lada 32OZ', 1,13.99),(10111,2014,3,10, 'Pink & Black 32OZ', 1,13.99),(10111,2014,4,28, 'Pink & Black 32OZ', 1,13.99),(10111,2014,5,19, 'Pink & Black 32OZ', 1,13.99),(10111,2014,6,2, 'Pink & Black 32OZ', 1,13.99),(10111,2014,6,23, 'Pink & Black 32OZ', 1,13.99),(10111,2014,7,7, 'Pink & Black 32OZ', 2,13.99),(10111,2014,7,14, 'Pink & Black 32OZ', 1,13.99),(10111,2014,7,21, 'Pink & Black 32OZ', 1,11.99),(10111,2014,8,4, 'Pink & Black 32OZ', 3,13.32),(10111,2014,9,1, 'Pink & Black 32OZ', 1,13.99),(10111,2014,9,8, 'Pink & Black 32OZ', 1,13.99),(10111,2014,9,15, 'Pink & Black 32OZ', 3,13.99),(10111,2014,9,29, 'Pink & Black 32OZ', 1,13.99),(10111,2014,10,6, 'Pink & Black 32OZ', 2,13.99),(10111,2014,10,27, 'Pink & Black 32OZ', 1,13.99),(10111,2014,11,17, 'Pink & Black 32OZ', 1,13.99),(10111,2014,12,1, 'Pink & Black 32OZ', 1,13.99),(10111,2014,12,15, 'Pink & Black 32OZ', 1,11.99),(10111,2014,3,10, 'The Classic 32OZ', 2,13.99),(10111,2014,3,24, 'The Classic 32OZ', 1,13.99),(10111,2014,3,31, 'The Classic 32OZ', 1,13.99),(10111,2014,4,7, 'The Classic 32OZ', 1,13.99),(10111,2014,4,14, 'The Classic 32OZ', 1,13.99),(10111,2014,4,21, 'The Classic 32OZ', 1,13.99),(10111,2014,5,12, 'The Classic 32OZ', 1,13.99),(10111,2014,5,19, 'The Classic 32OZ', 1,13.99),(10111,2014,6,2, 'The Classic 32OZ', 1,13.99),(10111,2014,6,9, 'The Classic 32OZ', 1,13.99),(10111,2014,6,30, 'The Classic 32OZ', 1,13.99),(10111,2014,7,7, 'The Classic 32OZ', 1,13.99),(10111,2014,9,1, 'The Classic 32OZ', 2,13.99),(10111,2014,9,15, 'The Classic 32OZ', 1,13.99),(10111,2014,10,6, 'The Classic 32OZ', 2,13.99),(10111,2014,10,13, 'The Classic 32OZ', 1,13.99),(10111,2014,10,27, 'The Classic 32OZ', 2,13.99),(10111,2014,11,17, 'The Classic 32OZ', 1,13.99),(10111,2014,11,24, 'The Classic 32OZ', 1,13.99),(10111,2014,12,15, 'The Classic 32OZ', -1,11.99),(10113,2014,3,24, 'Coco-Lada 32OZ', 1,13.99),(10113,2014,4,14, 'Coco-Lada 32OZ', 1,13.99),(10113,2014,5,26, 'Coco-Lada 32OZ', 1,13.99),(10113,2014,6,2, 'Coco-Lada 32OZ', 1,13.99),(10113,2014,8,18, 'Coco-Lada 32OZ', 1,13.99),(10113,2014,9,29, 'Coco-Lada 32OZ', 1,13.99),(10113,2014,12,15, 'Coco-Lada 32OZ', 2,11.99),(10113,2014,12,22, 'Coco-Lada 32OZ', 1,11.99),(10113,2014,3,24, 'Pink & Black 32OZ', 2,13.99),(10113,2014,3,31, 'Pink & Black 32OZ', 1,13.99),(10113,2014,4,14, 'Pink & Black 32OZ', 2,13.99),(10113,2014,4,28, 'Pink & Black 32OZ', 1,13.99),(10113,2014,5,12, 'Pink & Black 32OZ', 1,13.99),(10113,2014,6,2, 'Pink & Black 32OZ', 1,13.99),(10113,2014,6,16, 'Pink & Black 32OZ', 1,13.99),(10113,2014,6,30, 'Pink & Black 32OZ', 1,13.99),(10113,2014,8,18, 'Pink & Black 32OZ', 1,13.99),(10113,2014,9,1, 'Pink & Black 32OZ', 1,13.99),(10113,2014,10,20, 'Pink & Black 32OZ', 1,13.99),(10113,2014,11,10, 'Pink & Black 32OZ', 1,13.99),(10113,2014,12,15, 'Pink & Black 32OZ', 1,11.99),(10113,2014,3,10, 'The Classic 32OZ', 1,13.99),(10113,2014,3,31, 'The Classic 32OZ', 1,13.99),(10113,2014,4,21, 'The Classic 32OZ', 1,13.99),(10113,2014,4,28, 'The Classic 32OZ', 6,13.99),(10113,2014,5,19, 'The Classic 32OZ', 1,13.99),(10113,2014,5,26, 'The Classic 32OZ', 2,13.99),(10113,2014,6,16, 'The Classic 32OZ', 1,13.99),(10113,2014,7,7, 'The Classic 32OZ', 2,13.99),(10113,2014,7,21, 'The Classic 32OZ', 1,11.99),(10113,2014,8,18, 'The Classic 32OZ', 1,13.99),(10113,2014,9,8, 'The Classic 32OZ', 3,13.99),(10113,2014,9,15, 'The Classic 32OZ', 2,13.99),(10113,2014,9,29, 'The Classic 32OZ', 3,13.99),(10113,2014,10,6, 'The Classic 32OZ', 1,13.99),(10113,2014,10,20, 'The Classic 32OZ', 3,13.99),(10113,2014,12,1, 'The Classic 32OZ', 1,13.99),(10113,2014,12,8, 'The Classic 32OZ', 1,11.99),(10156,2014,3,17, 'Coco-Lada 32OZ', 1,13.99),(10156,2014,4,7, 'Coco-Lada 32OZ', 1,13.99),(10156,2014,4,14, 'Coco-Lada 32OZ', 1,13.99),(10156,2014,5,5, 'Coco-Lada 32OZ', 1,13.99),(10156,2014,5,12, 'Coco-Lada 32OZ', 1,13.99),(10156,2014,5,26, 'Coco-Lada 32OZ', 1,13.99),(10156,2014,6,9, 'Coco-Lada 32OZ', 1,13.99),(10156,2014,7,21, 'Coco-Lada 32OZ', 3,11.99),(10156,2014,7,28, 'Coco-Lada 32OZ', 1,11.99),(10156,2014,8,4, 'Coco-Lada 32OZ', 3,11.99),(10156,2014,10,27, 'Coco-Lada 32OZ', 1,13.99),(10156,2014,11,3, 'Coco-Lada 32OZ', 5,13.99),(10156,2014,11,10, 'Coco-Lada 32OZ', 1,13.99),(10156,2014,3,31, 'Pink & Black 32OZ', 1,13.99),(10156,2014,4,14, 'Pink & Black 32OZ', 1,13.99),(10156,2014,4,21, 'Pink & Black 32OZ', 1,13.99),(10156,2014,5,12, 'Pink & Black 32OZ', 1,13.99),(10156,2014,6,2, 'Pink & Black 32OZ', 1,13.99),(10156,2014,7,7, 'Pink & Black 32OZ', 1,13.99),(10156,2014,7,14, 'Pink & Black 32OZ', 2,13.99),(10156,2014,8,4, 'Pink & Black 32OZ', 1,13.99),(10156,2014,8,11, 'Pink & Black 32OZ', 1,13.99),(10156,2014,9,15, 'Pink & Black 32OZ', 1,13.99),(10156,2014,9,29, 'Pink & Black 32OZ', 1,13.99),(10156,2014,10,27, 'Pink & Black 32OZ', 1,13.99),(10156,2014,11,3, 'Pink & Black 32OZ', 2,13.99),(10156,2014,12,1, 'Pink & Black 32OZ', 3,13.99),(10156,2014,12,15, 'Pink & Black 32OZ', 2,11.99),(10156,2014,12,1, 'Syrup Cocktail Coco Lada 32OZ', 1,13.99),(10156,2014,12,15, 'Syrup Cocktail Coco Lada 32OZ', 1,11.99),(10156,2014,3,24, 'The Classic 32OZ', 1,13.99),(10156,2014,3,31, 'The Classic 32OZ', 1,13.99),(10156,2014,4,21, 'The Classic 32OZ', 1,13.99),(10156,2014,5,19, 'The Classic 32OZ', 1,13.99),(10156,2014,6,9, 'The Classic 32OZ', 2,13.99),(10156,2014,6,16, 'The Classic 32OZ', 1,13.99),(10156,2014,6,23, 'The Classic 32OZ', 1,13.99),(10156,2014,7,21, 'The Classic 32OZ', 1,11.99),(10156,2014,8,11, 'The Classic 32OZ', 1,13.99),(10156,2014,8,18, 'The Classic 32OZ', 1,13.99),(10156,2014,10,6, 'The Classic 32OZ', 1,13.99),(10156,2014,10,13, 'The Classic 32OZ', 1,13.99),(10156,2014,10,20, 'The Classic 32OZ', 1,13.99),(10156,2014,11,3, 'The Classic 32OZ', 2,13.99),(10156,2014,11,17, 'The Classic 32OZ', 1,13.99),(10156,2014,12,22, 'The Classic 32OZ', 1,13.99),(10158,2014,7,28, 'Coco-Lada 32OZ', -1,13.99),(10158,2014,8,4, 'Coco-Lada 32OZ', 2,13.99),(10158,2014,8,18, 'Coco-Lada 32OZ', 2,13.99),(10158,2014,9,1, 'Coco-Lada 32OZ', 1,13.99),(10158,2014,9,29, 'Coco-Lada 32OZ', 1,13.99),(10158,2014,10,6, 'Coco-Lada 32OZ', 2,13.99),(10158,2014,11,17, 'Coco-Lada 32OZ', 1,13.99),(10158,2014,6,30, 'Pink & Black 32OZ', 1,13.99),(10158,2014,7,28, 'Pink & Black 32OZ', -1,13.99),(10158,2014,8,4, 'Pink & Black 32OZ', 2,13.99),(10158,2014,8,18, 'Pink & Black 32OZ', 2,13.99),(10158,2014,9,1, 'Pink & Black 32OZ', 1,13.99),(10158,2014,9,29, 'Pink & Black 32OZ', 2,13.99),(10158,2014,7,28, 'The Classic 32OZ', -1,13.99),(10158,2014,9,8, 'The Classic 32OZ', 1,13.99),(10158,2014,10,6, 'The Classic 32OZ', 1,13.99),(10158,2014,10,20, 'The Classic 32OZ', 2,13.99),(10158,2014,11,24, 'The Classic 32OZ', 1,13.99),(10159,2014,3,17, 'Coco-Lada 32OZ', 1,13.99),(10159,2014,4,21, 'Coco-Lada 32OZ', 1,13.99),(10159,2014,4,28, 'Coco-Lada 32OZ', 1,13.99),(10159,2014,5,5, 'Coco-Lada 32OZ', 1,13.99),(10159,2014,7,7, 'Coco-Lada 32OZ', 1,13.99),(10159,2014,8,11, 'Coco-Lada 32OZ', 1,13.99),(10159,2014,8,18, 'Coco-Lada 32OZ', 2,13.99),(10159,2014,9,1, 'Coco-Lada 32OZ', 1,13.99),(10159,2014,9,29, 'Coco-Lada 32OZ', 1,13.99),(10159,2014,10,6, 'Coco-Lada 32OZ', 1,13.99),(10159,2014,10,13, 'Coco-Lada 32OZ', 1,13.99),(10159,2014,11,24, 'Coco-Lada 32OZ', 1,13.99),(10159,2014,12,8, 'Coco-Lada 32OZ', 3,11.99),(10159,2014,3,24, 'Pink & Black 32OZ', 1,13.99),(10159,2014,3,31, 'Pink & Black 32OZ', 1,13.99),(10159,2014,4,7, 'Pink & Black 32OZ', 1,13.99),(10159,2014,4,21, 'Pink & Black 32OZ', 2,13.99),(10159,2014,4,28, 'Pink & Black 32OZ', 1,13.99),(10159,2014,5,12, 'Pink & Black 32OZ', 2,13.99),(10159,2014,6,2, 'Pink & Black 32OZ', 1,13.99),(10159,2014,6,16, 'Pink & Black 32OZ', 1,13.99),(10159,2014,6,23, 'Pink & Black 32OZ', 2,13.99),(10159,2014,7,28, 'Pink & Black 32OZ', 1,11.99),(10159,2014,9,1, 'Pink & Black 32OZ', 1,13.99),(10159,2014,9,8, 'Pink & Black 32OZ', 2,13.99),(10159,2014,11,10, 'Pink & Black 32OZ', 1,13.99),(10159,2014,11,17, 'Pink & Black 32OZ', 1,13.99),(10159,2014,12,8, 'Pink & Black 32OZ', 2,11.99),(10159,2014,3,17, 'The Classic 32OZ', 1,13.99),(10159,2014,4,14, 'The Classic 32OZ', 1,13.99),(10159,2014,4,28, 'The Classic 32OZ', 1,13.99),(10159,2014,5,12, 'The Classic 32OZ', 1,13.99),(10159,2014,6,16, 'The Classic 32OZ', 2,13.99),(10159,2014,7,7, 'The Classic 32OZ', 1,13.99),(10159,2014,7,21, 'The Classic 32OZ', 1,11.99),(10159,2014,7,28, 'The Classic 32OZ', 2,11.99),(10159,2014,9,8, 'The Classic 32OZ', 2,13.99),(10159,2014,11,3, 'The Classic 32OZ', 1,13.99),(10159,2014,11,17, 'The Classic 32OZ', 1,13.99),(10217,2014,3,10, 'Coco-Lada 32OZ', 1,13.99),(10217,2014,3,31, 'Coco-Lada 32OZ', 2,13.99),(10217,2014,4,7, 'Coco-Lada 32OZ', 1,13.99),(10217,2014,4,14, 'Coco-Lada 32OZ', 2,13.99),(10217,2014,4,21, 'Coco-Lada 32OZ', 1,13.99),(10217,2014,5,19, 'Coco-Lada 32OZ', 1,13.99),(10217,2014,6,30, 'Coco-Lada 32OZ', 2,13.99),(10217,2014,7,7, 'Coco-Lada 32OZ', 3,13.99),(10217,2014,7,21, 'Coco-Lada 32OZ', 1,11.99),(10217,2014,7,28, 'Coco-Lada 32OZ', 1,11.99),(10217,2014,8,4, 'Coco-Lada 32OZ', 3,13.99),(10217,2014,8,11, 'Coco-Lada 32OZ', 1,13.99),(10217,2014,9,15, 'Coco-Lada 32OZ', 3,13.99),(10217,2014,9,29, 'Coco-Lada 32OZ', 1,13.99),(10217,2014,12,1, 'Coco-Lada 32OZ', 1,13.99),(10217,2014,12,22, 'Coco-Lada 32OZ', 2,11.99),(10217,2014,3,10, 'Pink & Black 32OZ', 1,13.99),(10217,2014,3,17, 'Pink & Black 32OZ', 1,13.99),(10217,2014,4,7, 'Pink & Black 32OZ', 1,13.99),(10217,2014,4,14, 'Pink & Black 32OZ', 1,13.99),(10217,2014,5,5, 'Pink & Black 32OZ', 1,13.99),(10217,2014,5,12, 'Pink & Black 32OZ', 2,13.99),(10217,2014,5,26, 'Pink & Black 32OZ', 2,13.99),(10217,2014,6,2, 'Pink & Black 32OZ', 1,13.99),(10217,2014,6,16, 'Pink & Black 32OZ', 1,13.99),(10217,2014,6,30, 'Pink & Black 32OZ', 2,13.99),(10217,2014,8,4, 'Pink & Black 32OZ', 4,13.99),(10217,2014,8,11, 'Pink & Black 32OZ', 1,13.99),(10217,2014,8,25, 'Pink & Black 32OZ', 1,13.99),(10217,2014,10,6, 'Pink & Black 32OZ', 1,13.99),(10217,2014,10,27, 'Pink & Black 32OZ', 1,13.99),(10217,2014,11,3, 'Pink & Black 32OZ', 1,13.99),(10217,2014,11,24, 'Pink & Black 32OZ', 1,13.99),(10217,2014,12,8, 'Pink & Black 32OZ', 1,11.99),(10217,2014,12,15, 'Pink & Black 32OZ', 5,11.99),(10217,2014,12,22, 'Pink & Black 32OZ', 2,11.99),(10217,2014,3,24, 'The Classic 32OZ', 1,13.99),(10217,2014,4,14, 'The Classic 32OZ', 1,13.99),(10217,2014,4,28, 'The Classic 32OZ', 2,13.99),(10217,2014,5,12, 'The Classic 32OZ', 1,13.99),(10217,2014,6,9, 'The Classic 32OZ', 1,13.99),(10217,2014,6,16, 'The Classic 32OZ', 1,13.99),(10217,2014,7,21, 'The Classic 32OZ', 1,11.99),(10217,2014,8,4, 'The Classic 32OZ', 2,13.99),(10217,2014,9,15, 'The Classic 32OZ', 1,13.99),(10217,2014,10,6, 'The Classic 32OZ', 1,13.99),(10217,2014,10,27, 'The Classic 32OZ', 1,13.99),(10217,2014,11,17, 'The Classic 32OZ', 1,13.99),(10217,2014,12,1, 'The Classic 32OZ', 1,13.99),(10217,2014,12,8, 'The Classic 32OZ', 1,11.99),(10217,2014,12,15, 'The Classic 32OZ', 1,11.99),(10222,2014,4,21, 'Coco-Lada 32OZ', 1,13.99),(10222,2014,5,19, 'Coco-Lada 32OZ', 1,13.99),(10222,2014,5,26, 'Coco-Lada 32OZ', 2,13.99),(10222,2014,6,16, 'Coco-Lada 32OZ', 1,13.99),(10222,2014,6,30, 'Coco-Lada 32OZ', 1,13.99),(10222,2014,7,28, 'Coco-Lada 32OZ', 2,11.99),(10222,2014,9,1, 'Coco-Lada 32OZ', 1,13.99),(10222,2014,9,8, 'Coco-Lada 32OZ', 1,13.99),(10222,2014,4,7, 'Pink & Black 32OZ', 1,13.99),(10222,2014,4,21, 'Pink & Black 32OZ', 1,13.99),(10222,2014,6,9, 'Pink & Black 32OZ', 1,13.99),(10222,2014,7,7, 'Pink & Black 32OZ', 1,13.99),(10222,2014,8,18, 'Pink & Black 32OZ', 1,13.99),(10222,2014,11,10, 'Pink & Black 32OZ', 1,13.99),(10222,2014,3,17, 'The Classic 32OZ', 1,13.99),(10222,2014,6,9, 'The Classic 32OZ', 1,13.99),(10222,2014,6,23, 'The Classic 32OZ', 2,13.99),(10222,2014,11,10, 'The Classic 32OZ', 1,13.99),(10233,2014,3,10, 'Coco-Lada 32OZ', 1,13.99),(10233,2014,4,28, 'Coco-Lada 32OZ', 1,13.99),(10233,2014,5,26, 'Coco-Lada 32OZ', 3,13.99),(10233,2014,6,30, 'Coco-Lada 32OZ', 1,13.99),(10233,2014,8,18, 'Coco-Lada 32OZ', 1,13.99),(10233,2014,9,1, 'Coco-Lada 32OZ', 2,13.99),(10233,2014,9,8, 'Coco-Lada 32OZ', 1,13.99),(10233,2014,11,3, 'Coco-Lada 32OZ', 1,13.99),(10233,2014,11,10, 'Coco-Lada 32OZ', 1,13.99),(10233,2014,12,15, 'Coco-Lada 32OZ', 3,11.99),(10233,2014,3,17, 'Pink & Black 32OZ', 2,13.99),(10233,2014,3,24, 'Pink & Black 32OZ', 1,13.99),(10233,2014,4,28, 'Pink & Black 32OZ', 1,13.99),(10233,2014,6,9, 'Pink & Black 32OZ', 1,13.99),(10233,2014,6,16, 'Pink & Black 32OZ', 1,13.99),(10233,2014,6,30, 'Pink & Black 32OZ', 2,13.99),(10233,2014,7,14, 'Pink & Black 32OZ', 1,13.99),(10233,2014,9,1, 'Pink & Black 32OZ', 1,13.99),(10233,2014,9,15, 'Pink & Black 32OZ', 1,13.99),(10233,2014,11,3, 'Pink & Black 32OZ', 1,13.99),(10233,2014,12,15, 'Pink & Black 32OZ', 5,11.99),(10233,2014,3,24, 'The Classic 32OZ', 1,13.99),(10233,2014,6,9, 'The Classic 32OZ', 1,13.99),(10233,2014,7,28, 'The Classic 32OZ', 1,11.99),(10233,2014,8,4, 'The Classic 32OZ', 1,13.99),(10233,2014,8,11, 'The Classic 32OZ', 1,13.99),(10233,2014,9,22, 'The Classic 32OZ', 1,13.99),(10233,2014,10,20, 'The Classic 32OZ', 1,13.99),(10233,2014,11,3, 'The Classic 32OZ', 1,13.99),(10233,2014,11,10, 'The Classic 32OZ', 1,13.99),(10233,2014,11,24, 'The Classic 32OZ', 1,13.99),(10233,2014,12,8, 'The Classic 32OZ', 2,11.99),(10233,2014,12,15, 'The Classic 32OZ', 4,11.99),(10254,2014,3,17, 'Coco-Lada 32OZ', 1,13.99),(10254,2014,3,24, 'Coco-Lada 32OZ', 0,NULL),(10254,2014,4,7, 'Coco-Lada 32OZ', 1,13.99),(10254,2014,5,5, 'Coco-Lada 32OZ', 1,13.99),(10254,2014,5,12, 'Coco-Lada 32OZ', 1,13.99),(10254,2014,5,19, 'Coco-Lada 32OZ', 1,13.99),(10254,2014,6,2, 'Coco-Lada 32OZ', 1,13.99),(10254,2014,10,13, 'Coco-Lada 32OZ', 1,13.99),(10254,2014,10,20, 'Coco-Lada 32OZ', 1,13.99),(10254,2014,12,1, 'Coco-Lada 32OZ', 1,13.99),(10254,2014,12,15, 'Coco-Lada 32OZ', 4,11.99),(10254,2014,3,31, 'Pink & Black 32OZ', 1,13.99),(10254,2014,4,21, 'Pink & Black 32OZ', 1,13.99),(10254,2014,8,4, 'Pink & Black 32OZ', 1,11.99),(10254,2014,9,29, 'Pink & Black 32OZ', 1,13.99),(10254,2014,10,20, 'Pink & Black 32OZ', 1,13.99),(10254,2014,11,10, 'Pink & Black 32OZ', 1,13.99),(10254,2014,5,26, 'The Classic 32OZ', 1,13.99),(10254,2014,7,28, 'The Classic 32OZ', 1,11.99),(10254,2014,9,1, 'The Classic 32OZ', 1,13.99),(10254,2014,9,8, 'The Classic 32OZ', 1,13.99),(10254,2014,11,3, 'The Classic 32OZ', 1,13.99),(10254,2014,12,15, 'The Classic 32OZ', 1,11.99),(10291,2014,5,26, 'Coco-Lada 32OZ', 1,13.99),(10291,2014,6,2, 'Coco-Lada 32OZ', 1,13.99),(10291,2014,6,9, 'Coco-Lada 32OZ', 1,13.99),(10291,2014,6,16, 'Coco-Lada 32OZ', 1,13.99),(10291,2014,6,23, 'Coco-Lada 32OZ', 2,13.99),(10291,2014,7,14, 'Coco-Lada 32OZ', 1,13.99),(10291,2014,7,21, 'Coco-Lada 32OZ', 2,11.99),(10291,2014,8,4, 'Coco-Lada 32OZ', 1,11.99),(10291,2014,8,25, 'Coco-Lada 32OZ', 1,13.99),(10291,2014,9,1, 'Coco-Lada 32OZ', 2,13.99),(10291,2014,9,8, 'Coco-Lada 32OZ', 1,13.99),(10291,2014,9,29, 'Coco-Lada 32OZ', 1,13.99),(10291,2014,10,6, 'Coco-Lada 32OZ', 1,13.99),(10291,2014,10,20, 'Coco-Lada 32OZ', 1,13.99),(10291,2014,11,3, 'Coco-Lada 32OZ', 1,13.99),(10291,2014,11,17, 'Coco-Lada 32OZ', 1,13.99),(10291,2014,11,24, 'Coco-Lada 32OZ', 1,13.99),(10291,2014,12,8, 'Coco-Lada 32OZ', 2,11.99),(10291,2014,12,15, 'Coco-Lada 32OZ', 2,11.99),(10291,2014,3,31, 'Pink & Black 32OZ', 1,13.99),(10291,2014,4,7, 'Pink & Black 32OZ', 1,13.99),(10291,2014,4,14, 'Pink & Black 32OZ', 2,13.99),(10291,2014,4,21, 'Pink & Black 32OZ', 1,13.99),(10291,2014,4,28, 'Pink & Black 32OZ', 4,13.99),(10291,2014,5,19, 'Pink & Black 32OZ', 1,13.99),(10291,2014,5,26, 'Pink & Black 32OZ', 1,13.99),(10291,2014,6,2, 'Pink & Black 32OZ', 1,13.99),(10291,2014,6,9, 'Pink & Black 32OZ', 1,13.99),(10291,2014,6,16, 'Pink & Black 32OZ', 1,13.99),(10291,2014,6,30, 'Pink & Black 32OZ', 2,13.99),(10291,2014,7,7, 'Pink & Black 32OZ', 1,13.99),(10291,2014,7,14, 'Pink & Black 32OZ', 1,13.99),(10291,2014,7,28, 'Pink & Black 32OZ', 2,11.99),(10291,2014,8,18, 'Pink & Black 32OZ', 1,13.99),(10291,2014,9,8, 'Pink & Black 32OZ', 3,13.99),(10291,2014,10,20, 'Pink & Black 32OZ', 1,13.99),(10291,2014,11,3, 'Pink & Black 32OZ', 1,13.99),(10291,2014,11,10, 'Pink & Black 32OZ', 1,13.99),(10291,2014,12,1, 'Pink & Black 32OZ', 2,13.99),(10291,2014,12,8, 'Pink & Black 32OZ', 2,11.99),(10291,2014,12,15, 'Pink & Black 32OZ', 9,11.99),(10291,2014,3,24, 'The Classic 32OZ', 1,13.99),(10291,2014,4,14, 'The Classic 32OZ', 3,13.99),(10291,2014,4,21, 'The Classic 32OZ', 1,13.99),(10291,2014,5,5, 'The Classic 32OZ', 1,13.99),(10291,2014,5,19, 'The Classic 32OZ', 1,13.99),(10291,2014,5,26, 'The Classic 32OZ', 1,13.99),(10291,2014,6,23, 'The Classic 32OZ', 1,13.99),(10291,2014,7,14, 'The Classic 32OZ', 1,13.99),(10291,2014,7,28, 'The Classic 32OZ', 2,11.99),(10291,2014,8,18, 'The Classic 32OZ', 1,13.99),(10291,2014,8,25, 'The Classic 32OZ', 2,13.99),(10291,2014,9,15, 'The Classic 32OZ', 1,13.99),(10291,2014,10,27, 'The Classic 32OZ', 1,13.99),(10291,2014,11,24, 'The Classic 32OZ', 1,13.99),(10291,2014,12,15, 'The Classic 32OZ', 3,11.99),(10319,2014,4,14, 'Coco-Lada 32OZ', 1,13.99),(10319,2014,4,28, 'Coco-Lada 32OZ', 2,13.99),(10319,2014,5,12, 'Coco-Lada 32OZ', 1,13.99),(10319,2014,6,23, 'Coco-Lada 32OZ', 1,13.99),(10319,2014,6,30, 'Coco-Lada 32OZ', -1,13.99),(10319,2014,8,11, 'Coco-Lada 32OZ', 2,13.99),(10319,2014,8,25, 'Coco-Lada 32OZ', 1,13.99),(10319,2014,9,1, 'Coco-Lada 32OZ', 1,13.99),(10319,2014,9,22, 'Coco-Lada 32OZ', 1,13.99),(10319,2014,10,20, 'Coco-Lada 32OZ', 1,13.99),(10319,2014,12,8, 'Coco-Lada 32OZ', 2,11.99),(10319,2014,12,15, 'Coco-Lada 32OZ', 2,11.99),(10319,2014,3,31, 'Pink & Black 32OZ', 1,13.99),(10319,2014,4,14, 'Pink & Black 32OZ', 1,13.99),(10319,2014,4,28, 'Pink & Black 32OZ', 6,13.99),(10319,2014,5,19, 'Pink & Black 32OZ', 3,13.99),(10319,2014,6,2, 'Pink & Black 32OZ', 1,13.99),(10319,2014,6,9, 'Pink & Black 32OZ', 1,13.99),(10319,2014,6,16, 'Pink & Black 32OZ', 2,13.99),(10319,2014,6,23, 'Pink & Black 32OZ', 2,13.99),(10319,2014,7,7, 'Pink & Black 32OZ', 1,13.99),(10319,2014,7,28, 'Pink & Black 32OZ', 2,11.99),(10319,2014,8,11, 'Pink & Black 32OZ', 1,13.99),(10319,2014,9,1, 'Pink & Black 32OZ', 2,13.99),(10319,2014,9,29, 'Pink & Black 32OZ', 1,13.99),(10319,2014,10,13, 'Pink & Black 32OZ', 2,13.99),(10319,2014,10,27, 'Pink & Black 32OZ', 1,13.99),(10319,2014,11,10, 'Pink & Black 32OZ', 1,13.99),(10319,2014,12,1, 'Pink & Black 32OZ', 2,13.99),(10319,2014,12,8, 'Pink & Black 32OZ', 2,11.99),(10319,2014,3,24, 'The Classic 32OZ', 1,13.99),(10319,2014,3,31, 'The Classic 32OZ', 1,13.99),(10319,2014,4,14, 'The Classic 32OZ', 3,13.99),(10319,2014,4,21, 'The Classic 32OZ', 1,13.99),(10319,2014,4,28, 'The Classic 32OZ', 1,13.99),(10319,2014,5,12, 'The Classic 32OZ', 1,13.99),(10319,2014,5,19, 'The Classic 32OZ', 1,13.99),(10319,2014,6,30, 'The Classic 32OZ', 1,13.99),(10319,2014,7,7, 'The Classic 32OZ', 3,13.99),(10319,2014,9,1, 'The Classic 32OZ', 1,13.99),(10319,2014,9,8, 'The Classic 32OZ', 1,13.99),(10319,2014,9,15, 'The Classic 32OZ', 1,13.99),(10319,2014,10,13, 'The Classic 32OZ', 2,13.99),(10319,2014,10,20, 'The Classic 32OZ', 1,13.99),(10319,2014,10,27, 'The Classic 32OZ', 2,13.99),(10319,2014,11,3, 'The Classic 32OZ', 1,13.99),(10319,2014,11,10, 'The Classic 32OZ', 1,13.99),(10319,2014,11,24, 'The Classic 32OZ', 1,13.99),(10319,2014,12,8, 'The Classic 32OZ', 1,11.99),(10336,2014,4,21, 'Coco-Lada 32OZ', 1,13.99),(10336,2014,5,12, 'Coco-Lada 32OZ', 1,13.99),(10336,2014,6,9, 'Coco-Lada 32OZ', 1,13.99),(10336,2014,7,28, 'Coco-Lada 32OZ', 2,11.99),(10336,2014,10,13, 'Coco-Lada 32OZ', 1,13.99),(10336,2014,11,3, 'Coco-Lada 32OZ', 1,13.99),(10336,2014,11,24, 'Coco-Lada 32OZ', 1,13.99),(10336,2014,12,1, 'Coco-Lada 32OZ', 1,13.99),(10336,2014,12,8, 'Coco-Lada 32OZ', 1,11.99),(10336,2014,12,15, 'Coco-Lada 32OZ', 3,11.99),(10336,2014,12,22, 'Coco-Lada 32OZ', 2,13.99),(10336,2014,4,14, 'Pink & Black 32OZ', 1,13.99),(10336,2014,4,21, 'Pink & Black 32OZ', 1,13.99),(10336,2014,4,28, 'Pink & Black 32OZ', 1,13.99),(10336,2014,5,5, 'Pink & Black 32OZ', 1,13.99),(10336,2014,5,12, 'Pink & Black 32OZ', 1,13.99),(10336,2014,6,9, 'Pink & Black 32OZ', 1,13.99),(10336,2014,7,21, 'Pink & Black 32OZ', 1,11.99),(10336,2014,8,11, 'Pink & Black 32OZ', 1,13.99),(10336,2014,8,25, 'Pink & Black 32OZ', 1,13.99),(10336,2014,9,22, 'Pink & Black 32OZ', 2,13.99),(10336,2014,10,20, 'Pink & Black 32OZ', 4,13.99),(10336,2014,11,3, 'Pink & Black 32OZ', 1,13.99),(10336,2014,11,10, 'Pink & Black 32OZ', 2,13.99),(10336,2014,12,1, 'Pink & Black 32OZ', 1,13.99),(10336,2014,12,8, 'Pink & Black 32OZ', 1,11.99),(10336,2014,12,15, 'Pink & Black 32OZ', 3,11.99),(10336,2014,12,22, 'Pink & Black 32OZ', 1,13.99),(10336,2014,3,24, 'The Classic 32OZ', 1,13.99),(10336,2014,4,21, 'The Classic 32OZ', 1,13.99),(10336,2014,5,5, 'The Classic 32OZ', 1,13.99),(10336,2014,5,12, 'The Classic 32OZ', 1,13.99),(10336,2014,6,16, 'The Classic 32OZ', 2,13.99),(10336,2014,6,23, 'The Classic 32OZ', 1,13.99),(10336,2014,7,14, 'The Classic 32OZ', 1,13.99),(10336,2014,7,28, 'The Classic 32OZ', 2,11.99),(10336,2014,8,4, 'The Classic 32OZ', 2,13.99),(10336,2014,8,18, 'The Classic 32OZ', 1,13.99),(10336,2014,9,15, 'The Classic 32OZ', 1,13.99),(10336,2014,9,22, 'The Classic 32OZ', 1,13.99),(10336,2014,10,6, 'The Classic 32OZ', 1,13.99),(10336,2014,10,13, 'The Classic 32OZ', 2,13.99),(10336,2014,11,10, 'The Classic 32OZ', 1,13.99),(10336,2014,12,15, 'The Classic 32OZ', 1,11.99),(10336,2014,12,22, 'The Classic 32OZ', 2,12.99),(10366,2014,4,7, 'Coco-Lada 32OZ', 1,13.99),(10366,2014,4,28, 'Coco-Lada 32OZ', 1,13.99),(10366,2014,5,26, 'Coco-Lada 32OZ', 1,13.99),(10366,2014,6,16, 'Coco-Lada 32OZ', 1,13.99),(10366,2014,7,28, 'Coco-Lada 32OZ', 1,11.99),(10366,2014,8,25, 'Coco-Lada 32OZ', 1,13.99),(10366,2014,12,15, 'Coco-Lada 32OZ', 2,11.99),(10366,2014,3,17, 'Pink & Black 32OZ', 1,13.99),(10366,2014,3,31, 'Pink & Black 32OZ', 1,13.99),(10366,2014,4,28, 'Pink & Black 32OZ', 1,13.99),(10366,2014,7,21, 'Pink & Black 32OZ', 2,13.99),(10366,2014,8,25, 'Pink & Black 32OZ', 3,13.99),(10366,2014,9,15, 'Pink & Black 32OZ', 1,13.99),(10366,2014,11,10, 'Pink & Black 32OZ', 1,13.99),(10366,2014,12,8, 'Pink & Black 32OZ', 1,11.99),(10366,2014,12,15, 'Pink & Black 32OZ', 1,11.99),(10366,2014,3,17, 'The Classic 32OZ', 1,13.99),(10366,2014,12,1, 'The Classic 32OZ', 1,13.99),(10366,2014,12,15, 'The Classic 32OZ', 1,11.99),(10371,2014,3,17, 'Coco-Lada 32OZ', 1,13.99),(10371,2014,4,14, 'Coco-Lada 32OZ', 1,13.99),(10371,2014,4,28, 'Coco-Lada 32OZ', 1,13.99),(10371,2014,5,26, 'Coco-Lada 32OZ', 3,13.99),(10371,2014,6,9, 'Coco-Lada 32OZ', 1,13.99),(10371,2014,6,23, 'Coco-Lada 32OZ', 1,13.99),(10371,2014,6,30, 'Coco-Lada 32OZ', 2,13.99),(10371,2014,7,14, 'Coco-Lada 32OZ', 1,13.99),(10371,2014,8,4, 'Coco-Lada 32OZ', 1,13.99),(10371,2014,8,18, 'Coco-Lada 32OZ', 2,13.99),(10371,2014,9,1, 'Coco-Lada 32OZ', 1,13.99),(10371,2014,10,13, 'Coco-Lada 32OZ', 1,13.99),(10371,2014,11,24, 'Coco-Lada 32OZ', 1,13.99),(10371,2014,3,17, 'Pink & Black 32OZ', 1,13.99),(10371,2014,4,7, 'Pink & Black 32OZ', 1,13.99),(10371,2014,4,21, 'Pink & Black 32OZ', 1,13.99),(10371,2014,5,26, 'Pink & Black 32OZ', 1,13.99),(10371,2014,6,9, 'Pink & Black 32OZ', 4,13.99),(10371,2014,6,16, 'Pink & Black 32OZ', 3,13.99),(10371,2014,6,30, 'Pink & Black 32OZ', 2,13.99),(10371,2014,8,25, 'Pink & Black 32OZ', 3,13.99),(10371,2014,11,24, 'Pink & Black 32OZ', 1,13.99),(10371,2014,12,1, 'Pink & Black 32OZ', 1,13.99),(10371,2014,12,22, 'Pink & Black 32OZ', 1,11.99),(10371,2014,3,10, 'The Classic 32OZ', 1,13.99),(10371,2014,3,24, 'The Classic 32OZ', 1,13.99),(10371,2014,5,19, 'The Classic 32OZ', 1,13.99),(10371,2014,6,30, 'The Classic 32OZ', 1,13.99),(10371,2014,7,21, 'The Classic 32OZ', 1,11.99),(10371,2014,8,4, 'The Classic 32OZ', 1,13.99),(10371,2014,8,11, 'The Classic 32OZ', 1,13.99),(10371,2014,8,25, 'The Classic 32OZ', 1,13.99),(10371,2014,9,8, 'The Classic 32OZ', 1,13.99),(10371,2014,11,17, 'The Classic 32OZ', 1,13.99),(10371,2014,11,24, 'The Classic 32OZ', 1,13.99),(10371,2014,12,1, 'The Classic 32OZ', 1,13.99),(10380,2014,4,14, 'Coco-Lada 32OZ', 1,13.99),(10380,2014,5,26, 'Coco-Lada 32OZ', 1,13.99),(10380,2014,6,16, 'Coco-Lada 32OZ', 1,13.99),(10380,2014,9,15, 'Coco-Lada 32OZ', 1,13.99),(10380,2014,10,6, 'Coco-Lada 32OZ', 1,13.99),(10380,2014,11,17, 'Coco-Lada 32OZ', 1,13.99),(10380,2014,3,24, 'Pink & Black 32OZ', 1,13.99),(10380,2014,3,31, 'Pink & Black 32OZ', 1,13.99),(10380,2014,6,9, 'Pink & Black 32OZ', 1,13.99),(10380,2014,6,23, 'Pink & Black 32OZ', 1,13.99),(10380,2014,6,30, 'Pink & Black 32OZ', 2,13.99),(10380,2014,7,7, 'Pink & Black 32OZ', 2,13.99),(10380,2014,7,21, 'Pink & Black 32OZ', 1,11.99),(10380,2014,8,18, 'Pink & Black 32OZ', 1,13.99),(10380,2014,9,8, 'Pink & Black 32OZ', 1,13.99),(10380,2014,9,15, 'Pink & Black 32OZ', 2,13.99),(10380,2014,10,13, 'Pink & Black 32OZ', 1,13.99),(10380,2014,10,20, 'Pink & Black 32OZ', 2,13.99),(10380,2014,11,10, 'Pink & Black 32OZ', 2,13.99),(10380,2014,11,24, 'Pink & Black 32OZ', 1,13.99),(10380,2014,12,1, 'Pink & Black 32OZ', 1,13.99),(10380,2014,4,7, 'The Classic 32OZ', 1,13.99),(10380,2014,5,26, 'The Classic 32OZ', 1,13.99),(10380,2014,6,9, 'The Classic 32OZ', 1,13.99),(10380,2014,6,30, 'The Classic 32OZ', 1,13.99),(10380,2014,7,7, 'The Classic 32OZ', 2,13.99),(10380,2014,7,14, 'The Classic 32OZ', 1,13.99),(10380,2014,8,18, 'The Classic 32OZ', 1,13.99),(10380,2014,9,1, 'The Classic 32OZ', 1,13.99),(10380,2014,10,20, 'The Classic 32OZ', 1,13.99),(10380,2014,11,17, 'The Classic 32OZ', 1,13.99),(10380,2014,12,8, 'The Classic 32OZ', 1,11.99),(10413,2014,5,5, 'Coco-Lada 32OZ', 1,13.99),(10413,2014,5,19, 'Coco-Lada 32OZ', 2,13.99),(10413,2014,5,26, 'Coco-Lada 32OZ', 1,13.99),(10413,2014,6,9, 'Coco-Lada 32OZ', 1,13.99),(10413,2014,6,16, 'Coco-Lada 32OZ', 1,13.99),(10413,2014,6,23, 'Coco-Lada 32OZ', 1,13.99),(10413,2014,6,30, 'Coco-Lada 32OZ', 2,13.99),(10413,2014,7,14, 'Coco-Lada 32OZ', 4,13.99),(10413,2014,7,21, 'Coco-Lada 32OZ', 2,11.99),(10413,2014,9,29, 'Coco-Lada 32OZ', 1,13.99),(10413,2014,11,3, 'Coco-Lada 32OZ', 1,13.99),(10413,2014,12,22, 'Coco-Lada 32OZ', 2,12.99),(10413,2014,3,24, 'Pink & Black 32OZ', 1,13.99),(10413,2014,4,21, 'Pink & Black 32OZ', 1,13.99),(10413,2014,5,12, 'Pink & Black 32OZ', 1,13.99),(10413,2014,5,26, 'Pink & Black 32OZ', 1,13.99),(10413,2014,6,9, 'Pink & Black 32OZ', 1,13.99),(10413,2014,6,16, 'Pink & Black 32OZ', 2,13.99),(10413,2014,6,23, 'Pink & Black 32OZ', 1,13.99),(10413,2014,6,30, 'Pink & Black 32OZ', 1,13.99),(10413,2014,7,7, 'Pink & Black 32OZ', 2,13.99),(10413,2014,7,21, 'Pink & Black 32OZ', 1,11.99),(10413,2014,8,4, 'Pink & Black 32OZ', 1,13.99),(10413,2014,9,22, 'Pink & Black 32OZ', 1,13.99),(10413,2014,9,29, 'Pink & Black 32OZ', 1,13.99),(10413,2014,10,20, 'Pink & Black 32OZ', 1,13.99),(10413,2014,12,22, 'Pink & Black 32OZ', 1,11.99),(10413,2014,3,17, 'The Classic 32OZ', 1,13.99),(10413,2014,3,24, 'The Classic 32OZ', 3,13.99),(10413,2014,4,7, 'The Classic 32OZ', 1,13.99),(10413,2014,4,14, 'The Classic 32OZ', 1,13.99),(10413,2014,4,21, 'The Classic 32OZ', 2,13.99),(10413,2014,4,28, 'The Classic 32OZ', 1,13.99),(10413,2014,5,19, 'The Classic 32OZ', 1,13.99),(10413,2014,6,2, 'The Classic 32OZ', 1,13.99),(10413,2014,6,9, 'The Classic 32OZ', 1,13.99),(10413,2014,7,14, 'The Classic 32OZ', 1,13.99),(10413,2014,7,28, 'The Classic 32OZ', 1,11.99),(10413,2014,8,11, 'The Classic 32OZ', 1,13.99),(10413,2014,9,22, 'The Classic 32OZ', 1,13.99),(10413,2014,10,6, 'The Classic 32OZ', 2,13.99),(10413,2014,10,13, 'The Classic 32OZ', 1,13.99),(10413,2014,11,10, 'The Classic 32OZ', 1,13.99),(10413,2014,12,1, 'The Classic 32OZ', 2,13.99),(10413,2014,12,8, 'The Classic 32OZ', 1,11.99),(10413,2014,12,15, 'The Classic 32OZ', 1,11.99),(10413,2014,12,22, 'The Classic 32OZ', 3,12.66),(10452,2014,3,31, 'Coco-Lada 32OZ', 1,13.99),(10452,2014,4,7, 'Coco-Lada 32OZ', 1,13.99),(10452,2014,5,19, 'Coco-Lada 32OZ', 1,13.99),(10452,2014,6,23, 'Coco-Lada 32OZ', 1,13.99),(10452,2014,7,7, 'Coco-Lada 32OZ', 1,13.99),(10452,2014,7,28, 'Coco-Lada 32OZ', 2,11.99),(10452,2014,8,11, 'Coco-Lada 32OZ', 1,13.99),(10452,2014,8,18, 'Coco-Lada 32OZ', 1,13.99),(10452,2014,9,1, 'Coco-Lada 32OZ', 2,13.99),(10452,2014,9,15, 'Coco-Lada 32OZ', 2,13.99),(10452,2014,11,24, 'Coco-Lada 32OZ', 1,13.99),(10452,2014,12,1, 'Coco-Lada 32OZ', 1,13.99),(10452,2014,12,8, 'Coco-Lada 32OZ', 1,11.99),(10452,2014,12,22, 'Coco-Lada 32OZ', 3,11.99),(10452,2014,3,17, 'Pink & Black 32OZ', 2,13.99),(10452,2014,3,24, 'Pink & Black 32OZ', 2,13.99),(10452,2014,3,31, 'Pink & Black 32OZ', 1,13.99),(10452,2014,4,7, 'Pink & Black 32OZ', 1,13.99),(10452,2014,4,28, 'Pink & Black 32OZ', 2,13.99),(10452,2014,5,5, 'Pink & Black 32OZ', 1,13.99),(10452,2014,5,26, 'Pink & Black 32OZ', 3,13.99),(10452,2014,6,23, 'Pink & Black 32OZ', 1,13.99),(10452,2014,6,30, 'Pink & Black 32OZ', 1,13.99),(10452,2014,7,14, 'Pink & Black 32OZ', 1,13.99),(10452,2014,7,28, 'Pink & Black 32OZ', 2,11.99),(10452,2014,9,1, 'Pink & Black 32OZ', 2,13.99),(10452,2014,9,8, 'Pink & Black 32OZ', 1,13.99),(10452,2014,9,22, 'Pink & Black 32OZ', 1,13.99),(10452,2014,9,29, 'Pink & Black 32OZ', 1,13.99),(10452,2014,11,24, 'Pink & Black 32OZ', 1,13.99),(10452,2014,12,22, 'Pink & Black 32OZ', 5,11.99),(10452,2014,3,17, 'The Classic 32OZ', 1,13.99),(10452,2014,4,7, 'The Classic 32OZ', 3,13.99),(10452,2014,4,28, 'The Classic 32OZ', 1,13.99),(10452,2014,5,12, 'The Classic 32OZ', 1,13.99),(10452,2014,7,21, 'The Classic 32OZ', 1,13.99),(10452,2014,7,28, 'The Classic 32OZ', 2,11.99),(10452,2014,8,25, 'The Classic 32OZ', 1,13.99),(10452,2014,9,1, 'The Classic 32OZ', 2,13.99),(10452,2014,9,15, 'The Classic 32OZ', 2,13.99),(10452,2014,12,1, 'The Classic 32OZ', 1,13.99),(10452,2014,12,8, 'The Classic 32OZ', 1,11.99),(10452,2014,12,15, 'The Classic 32OZ', 1,11.99),(10452,2014,12,22, 'The Classic 32OZ', 2,11.99),(10462,2014,9,1, 'Coco-Lada 32OZ', 1,13.99),(10462,2014,9,8, 'Coco-Lada 32OZ', 1,13.99),(10462,2014,9,22, 'Coco-Lada 32OZ', 1,13.99),(10462,2014,10,27, 'Coco-Lada 32OZ', 1,13.99),(10462,2014,11,10, 'Coco-Lada 32OZ', 1,13.99),(10462,2014,12,8, 'Coco-Lada 32OZ', 1,11.99),(10462,2014,8,25, 'Pink & Black 32OZ', 2,13.99),(10462,2014,9,1, 'Pink & Black 32OZ', 4,13.99),(10462,2014,9,8, 'Pink & Black 32OZ', 2,13.99),(10462,2014,11,17, 'Pink & Black 32OZ', 3,13.99),(10462,2014,11,24, 'Pink & Black 32OZ', 2,13.99),(10462,2014,12,1, 'Pink & Black 32OZ', 2,13.99),(10462,2014,12,15, 'Pink & Black 32OZ', 1,11.99),(10462,2014,8,25, 'Syrup Cocktail Coco Lada 32OZ', 3,13.99),(10462,2014,9,1, 'Syrup Cocktail Coco Lada 32OZ', 1,13.99),(10462,2014,11,24, 'Syrup Cocktail Coco Lada 32OZ', 1,13.99),(10462,2014,8,25, 'The Classic 32OZ', 1,13.99),(10462,2014,9,1, 'The Classic 32OZ', 1,13.99),(10462,2014,9,15, 'The Classic 32OZ', 1,13.99),(10462,2014,9,29, 'The Classic 32OZ', 1,13.99),(10462,2014,10,27, 'The Classic 32OZ', 1,13.99),(10462,2014,11,24, 'The Classic 32OZ', 1,13.99),(10462,2014,12,1, 'The Classic 32OZ', 1,13.99),(10462,2014,12,15, 'The Classic 32OZ', 1,11.99),(10506,2014,7,21, 'Coco-Lada 32OZ', 1,11.99),(10506,2014,8,25, 'Coco-Lada 32OZ', 1,13.99),(10506,2014,10,6, 'Coco-Lada 32OZ', 1,13.99),(10506,2014,11,24, 'Coco-Lada 32OZ', 2,13.99),(10506,2014,12,1, 'Coco-Lada 32OZ', 1,13.99),(10506,2014,3,17, 'Pink & Black 32OZ', 1,13.99),(10506,2014,5,12, 'Pink & Black 32OZ', 1,13.99),(10506,2014,6,30, 'Pink & Black 32OZ', 1,13.99),(10506,2014,7,28, 'Pink & Black 32OZ', 1,11.99),(10506,2014,8,11, 'Pink & Black 32OZ', 1,13.99),(10506,2014,9,8, 'Pink & Black 32OZ', 1,13.99),(10506,2014,9,15, 'Pink & Black 32OZ', 1,13.99),(10506,2014,10,20, 'Pink & Black 32OZ', 1,13.99),(10506,2014,11,3, 'Pink & Black 32OZ', 1,13.99),(10506,2014,12,8, 'Pink & Black 32OZ', 1,11.99),(10506,2014,5,12, 'The Classic 32OZ', 1,13.99),(10506,2014,7,28, 'The Classic 32OZ', 1,11.99),(10507,2014,6,2, 'Coco-Lada 32OZ', 0,NULL),(10507,2014,11,24, 'Coco-Lada 32OZ', 2,13.99),(10507,2014,4,7, 'Pink & Black 32OZ', 1,13.99),(10507,2014,5,5, 'Pink & Black 32OZ', 1,13.99),(10507,2014,5,12, 'Pink & Black 32OZ', 1,13.99),(10507,2014,5,19, 'Pink & Black 32OZ', 2,13.99),(10507,2014,7,7, 'Pink & Black 32OZ', 1,13.99),(10507,2014,7,21, 'Pink & Black 32OZ', 1,11.99),(10507,2014,9,22, 'Pink & Black 32OZ', 1,13.99),(10507,2014,10,13, 'Pink & Black 32OZ', 1,13.99),(10507,2014,12,8, 'Pink & Black 32OZ', 1,11.99),(10507,2014,3,24, 'The Classic 32OZ', 1,13.99),(10507,2014,4,21, 'The Classic 32OZ', 1,13.99),(10507,2014,5,19, 'The Classic 32OZ', 1,13.99),(10507,2014,5,26, 'The Classic 32OZ', 1,13.99),(10507,2014,6,9, 'The Classic 32OZ', 1,13.99),(10507,2014,6,30, 'The Classic 32OZ', 1,13.99),(10507,2014,7,21, 'The Classic 32OZ', 1,11.99),(10507,2014,7,28, 'The Classic 32OZ', 1,11.99),(10507,2014,9,8, 'The Classic 32OZ', 1,13.99),(10507,2014,10,27, 'The Classic 32OZ', 1,13.99),(10507,2014,11,3, 'The Classic 32OZ', 1,13.99),(10507,2014,11,17, 'The Classic 32OZ', 1,13.99),(10509,2014,4,14, 'Coco-Lada 32OZ', 1,13.99),(10509,2014,6,9, 'Coco-Lada 32OZ', 1,13.99),(10509,2014,10,20, 'Coco-Lada 32OZ', 1,13.99),(10509,2014,10,27, 'Coco-Lada 32OZ', 1,13.99),(10509,2014,11,17, 'Coco-Lada 32OZ', 1,13.99),(10509,2014,11,24, 'Coco-Lada 32OZ', 1,13.99),(10509,2014,12,8, 'Coco-Lada 32OZ', 1,11.99),(10509,2014,12,15, 'Coco-Lada 32OZ', 1,11.99),(10509,2014,3,24, 'Pink & Black 32OZ', 1,13.99),(10509,2014,4,14, 'Pink & Black 32OZ', 2,13.99),(10509,2014,4,28, 'Pink & Black 32OZ', 1,13.99),(10509,2014,6,30, 'Pink & Black 32OZ', 1,13.99),(10509,2014,7,7, 'Pink & Black 32OZ', 1,13.99),(10509,2014,7,14, 'Pink & Black 32OZ', 1,13.99),(10509,2014,7,21, 'Pink & Black 32OZ', 1,13.99),(10509,2014,7,28, 'Pink & Black 32OZ', 1,11.99),(10509,2014,9,8, 'Pink & Black 32OZ', 2,13.99),(10509,2014,10,27, 'Pink & Black 32OZ', 1,13.99),(10509,2014,11,17, 'Pink & Black 32OZ', 1,13.99),(10509,2014,4,14, 'The Classic 32OZ', 1,13.99),(10509,2014,4,28, 'The Classic 32OZ', 1,13.99),(10509,2014,5,12, 'The Classic 32OZ', 1,13.99),(10509,2014,6,9, 'The Classic 32OZ', 1,13.99),(10509,2014,6,16, 'The Classic 32OZ', 1,13.99),(10509,2014,6,23, 'The Classic 32OZ', 1,13.99),(10509,2014,7,21, 'The Classic 32OZ', 1,11.99),(10509,2014,8,4, 'The Classic 32OZ', 2,13.99),(10509,2014,10,27, 'The Classic 32OZ', 2,13.99),(10509,2014,11,10, 'The Classic 32OZ', 1,13.99),(10509,2014,11,17, 'The Classic 32OZ', 1,13.99),(10509,2014,12,15, 'The Classic 32OZ', 1,11.99),(10510,2014,4,7, 'Coco-Lada 32OZ', 1,13.99),(10510,2014,5,12, 'Coco-Lada 32OZ', 1,13.99),(10510,2014,6,9, 'Coco-Lada 32OZ', 1,13.99),(10510,2014,7,28, 'Coco-Lada 32OZ', 3,11.99),(10510,2014,8,11, 'Coco-Lada 32OZ', 1,13.99),(10510,2014,11,24, 'Coco-Lada 32OZ', -1,13.99),(10510,2014,12,8, 'Coco-Lada 32OZ', 1,11.99),(10510,2014,3,24, 'Pink & Black 32OZ', 1,13.99),(10510,2014,5,12, 'Pink & Black 32OZ', 1,13.99),(10510,2014,5,19, 'Pink & Black 32OZ', 3,13.99),(10510,2014,5,26, 'Pink & Black 32OZ', 3,13.99),(10510,2014,6,2, 'Pink & Black 32OZ', 1,13.99),(10510,2014,6,16, 'Pink & Black 32OZ', 1,13.99),(10510,2014,7,14, 'Pink & Black 32OZ', 1,13.99),(10510,2014,7,28, 'Pink & Black 32OZ', 1,11.99),(10510,2014,9,1, 'Pink & Black 32OZ', 1,13.99),(10510,2014,9,29, 'Pink & Black 32OZ', 1,13.99),(10510,2014,12,22, 'Pink & Black 32OZ', 1,13.99),(10510,2014,4,21, 'The Classic 32OZ', 1,13.99),(10510,2014,4,28, 'The Classic 32OZ', 2,13.99),(10510,2014,5,12, 'The Classic 32OZ', 2,13.99),(10510,2014,5,19, 'The Classic 32OZ', 1,13.99),(10510,2014,5,26, 'The Classic 32OZ', 3,13.99),(10510,2014,6,30, 'The Classic 32OZ', 1,13.99),(10510,2014,7,28, 'The Classic 32OZ', 1,11.99),(10510,2014,8,11, 'The Classic 32OZ', 1,13.99),(10510,2014,12,15, 'The Classic 32OZ', 1,11.99),(10511,2014,3,17, 'Coco-Lada 32OZ', 1,13.99),(10511,2014,3,24, 'Coco-Lada 32OZ', 1,13.99),(10511,2014,3,31, 'Coco-Lada 32OZ', 1,13.99),(10511,2014,4,28, 'Coco-Lada 32OZ', 1,13.99),(10511,2014,5,5, 'Coco-Lada 32OZ', 1,13.99),(10511,2014,6,9, 'Coco-Lada 32OZ', 1,13.99),(10511,2014,7,7, 'Coco-Lada 32OZ', 1,13.99),(10511,2014,8,11, 'Coco-Lada 32OZ', 1,13.99),(10511,2014,9,1, 'Coco-Lada 32OZ', 1,13.99),(10511,2014,9,15, 'Coco-Lada 32OZ', 1,13.99),(10511,2014,12,8, 'Coco-Lada 32OZ', 1,11.99),(10511,2014,3,24, 'Pink & Black 32OZ', 2,13.99),(10511,2014,4,7, 'Pink & Black 32OZ', 1,13.99),(10511,2014,4,21, 'Pink & Black 32OZ', 1,13.99),(10511,2014,4,28, 'Pink & Black 32OZ', 1,13.99),(10511,2014,5,12, 'Pink & Black 32OZ', 1,13.99),(10511,2014,5,19, 'Pink & Black 32OZ', 1,13.99),(10511,2014,5,26, 'Pink & Black 32OZ', 1,13.99),(10511,2014,6,2, 'Pink & Black 32OZ', 1,13.99),(10511,2014,6,9, 'Pink & Black 32OZ', 1,13.99),(10511,2014,6,16, 'Pink & Black 32OZ', 1,13.99),(10511,2014,6,23, 'Pink & Black 32OZ', 1,13.99),(10511,2014,6,30, 'Pink & Black 32OZ', 1,13.99),(10511,2014,7,7, 'Pink & Black 32OZ', 1,13.99),(10511,2014,7,14, 'Pink & Black 32OZ', 1,13.99),(10511,2014,7,21, 'Pink & Black 32OZ', 1,11.99),(10511,2014,7,28, 'Pink & Black 32OZ', 1,11.99),(10511,2014,8,11, 'Pink & Black 32OZ', 1,13.99),(10511,2014,10,13, 'Pink & Black 32OZ', 1,13.99),(10511,2014,11,24, 'Pink & Black 32OZ', 1,13.99),(10511,2014,12,1, 'Pink & Black 32OZ', 1,13.99),(10511,2014,12,8, 'Pink & Black 32OZ', 1,11.99),(10511,2014,12,15, 'Pink & Black 32OZ', 1,11.99),(10511,2014,4,14, 'The Classic 32OZ', 1,13.99),(10511,2014,5,19, 'The Classic 32OZ', 1,13.99),(10511,2014,6,9, 'The Classic 32OZ', 1,13.99),(10511,2014,6,16, 'The Classic 32OZ', 1,13.99),(10511,2014,6,23, 'The Classic 32OZ', 2,13.99),(10511,2014,7,7, 'The Classic 32OZ', 1,13.99),(10511,2014,7,21, 'The Classic 32OZ', 1,11.99),(10511,2014,7,28, 'The Classic 32OZ', 1,11.99),(10511,2014,8,18, 'The Classic 32OZ', 1,13.99),(10511,2014,9,1, 'The Classic 32OZ', 1,13.99),(10511,2014,9,15, 'The Classic 32OZ', 1,13.99),(10511,2014,11,3, 'The Classic 32OZ', 1,13.99),(10511,2014,11,10, 'The Classic 32OZ', 1,13.99),(10511,2014,11,17, 'The Classic 32OZ', 1,13.99),(10511,2014,12,15, 'The Classic 32OZ', 1,11.99),(10512,2014,5,19, 'Coco-Lada 32OZ', 2,9.99),(10512,2014,5,26, 'Coco-Lada 32OZ', 2,9.99),(10512,2014,6,2, 'Coco-Lada 32OZ', 1,13.99),(10512,2014,7,21, 'Coco-Lada 32OZ', 2,11.99),(10512,2014,7,28, 'Coco-Lada 32OZ', 1,11.99),(10512,2014,8,4, 'Coco-Lada 32OZ', 2,13.99),(10512,2014,9,1, 'Coco-Lada 32OZ', 1,13.99),(10512,2014,9,15, 'Coco-Lada 32OZ', 1,13.99),(10512,2014,5,19, 'Pink & Black 32OZ', 4,9.99),(10512,2014,5,26, 'Pink & Black 32OZ', 1,9.99),(10512,2014,6,16, 'Pink & Black 32OZ', 2,13.99),(10512,2014,7,21, 'Pink & Black 32OZ', 1,11.99),(10512,2014,7,28, 'Pink & Black 32OZ', 3,11.99),(10512,2014,8,4, 'Pink & Black 32OZ', 1,11.99),(10512,2014,10,13, 'Pink & Black 32OZ', 2,13.99),(10512,2014,10,20, 'Pink & Black 32OZ', 1,13.99),(10512,2014,5,19, 'The Classic 32OZ', 4,9.99),(10512,2014,6,2, 'The Classic 32OZ', 1,13.99),(10512,2014,6,30, 'The Classic 32OZ', 1,13.99),(10512,2014,7,14, 'The Classic 32OZ', 1,13.99),(10512,2014,7,28, 'The Classic 32OZ', 3,11.99),(10512,2014,8,4, 'The Classic 32OZ', 2,12.99),(10512,2014,8,18, 'The Classic 32OZ', 1,13.99),(10512,2014,9,1, 'The Classic 32OZ', 1,13.99),(10512,2014,10,20, 'The Classic 32OZ', 1,13.99),(10512,2014,12,8, 'The Classic 32OZ', 1,11.99),(10131,2013,11,25, 'Coco-Lada 32OZ', 1,12.99),(10131,2013,12,23, 'Coco-Lada 32OZ', 1,12.99),(10131,2014,1,27, 'Coco-Lada 32OZ', 1,12.99),(10131,2014,3,17, 'Coco-Lada 32OZ', 1,12.99),(10131,2014,3,31, 'Coco-Lada 32OZ', 1,12.99),(10131,2014,10,13, 'Coco-Lada 32OZ', 1,12.99),(10131,2014,12,8, 'Coco-Lada 32OZ', 1,12.99),(10131,2013,11,4, 'Pink & Black 32OZ', 1,12.99),(10131,2013,11,11, 'Pink & Black 32OZ', 1,12.99),(10131,2013,12,9, 'Pink & Black 32OZ', 1,12.99),(10131,2014,1,13, 'Pink & Black 32OZ', 1,12.99),(10131,2014,3,31, 'Pink & Black 32OZ', 1,12.99),(10131,2014,5,12, 'Pink & Black 32OZ', 3,12.99),(10131,2014,5,26, 'Pink & Black 32OZ', 1,12.99),(10131,2014,6,2, 'Pink & Black 32OZ', 1,12.99),(10131,2014,6,9, 'Pink & Black 32OZ', 1,12.99),(10131,2014,6,30, 'Pink & Black 32OZ', 1,12.99),(10131,2014,7,7, 'Pink & Black 32OZ', 3,12.99),(10131,2014,8,18, 'Pink & Black 32OZ', 1,12.99),(10131,2014,8,25, 'Pink & Black 32OZ', 1,12.99),(10131,2014,9,8, 'Pink & Black 32OZ', 1,12.99),(10131,2014,10,13, 'Pink & Black 32OZ', 1,12.99),(10131,2014,11,3, 'Pink & Black 32OZ', 2,11.49),(10131,2014,8,18, 'Syrup Cocktail Coco Lada 32OZ', 1,12.99),(10131,2014,9,1, 'Syrup Cocktail Coco Lada 32OZ', 1,12.99),(10131,2014,9,8, 'Syrup Cocktail Coco Lada 32OZ', 1,12.99),(10131,2013,11,11, 'The Classic 32OZ', 1,12.99),(10131,2013,12,2, 'The Classic 32OZ', 1,12.99),(10131,2013,12,23, 'The Classic 32OZ', 2,12.99),(10131,2014,1,20, 'The Classic 32OZ', 1,12.99),(10131,2014,4,7, 'The Classic 32OZ', 1,12.99),(10131,2014,4,21, 'The Classic 32OZ', 2,12.99),(10131,2014,4,28, 'The Classic 32OZ', 1,12.99),(10131,2014,5,5, 'The Classic 32OZ', 2,12.99),(10131,2014,5,12, 'The Classic 32OZ', 2,12.99),(10131,2014,5,19, 'The Classic 32OZ', 2,12.99),(10131,2014,6,2, 'The Classic 32OZ', 1,12.99),(10131,2014,6,9, 'The Classic 32OZ', 3,12.99),(10131,2014,7,21, 'The Classic 32OZ', 6,12.99),(10131,2014,8,4, 'The Classic 32OZ', 2,12.99),(10131,2014,8,11, 'The Classic 32OZ', 1,12.99),(10131,2014,8,18, 'The Classic 32OZ', 1,12.99),(10131,2014,9,8, 'The Classic 32OZ', 2,12.99),(10131,2014,10,6, 'The Classic 32OZ', 3,12.99),(10131,2014,10,13, 'The Classic 32OZ', 1,12.99),(10131,2014,11,3, 'The Classic 32OZ', 2,12.99),(10131,2014,11,10, 'The Classic 32OZ', 2,12.99),(10160,2014,11,3, 'Coco-Lada 32OZ', 1,12.99),(10160,2014,12,15, 'Coco-Lada 32OZ', 3,12.99),(10160,2014,9,8, 'Pink & Black 32OZ', 2,12.99),(10160,2014,10,6, 'Pink & Black 32OZ', 2,12.99),(10160,2014,10,13, 'Pink & Black 32OZ', 1,12.99),(10160,2014,10,27, 'Pink & Black 32OZ', 1,12.99),(10160,2014,12,1, 'Pink & Black 32OZ', 2,12.99),(10160,2014,12,8, 'Pink & Black 32OZ', 1,12.99),(10160,2014,8,18, 'Syrup Cocktail Coco Lada 32OZ', 3,12.99),(10160,2014,8,25, 'Syrup Cocktail Coco Lada 32OZ', 1,12.99),(10160,2014,9,1, 'Syrup Cocktail Coco Lada 32OZ', 1,12.99),(10160,2014,7,21, 'The Classic 32OZ', 1,12.99),(10160,2014,7,28, 'The Classic 32OZ', 2,12.99),(10160,2014,8,4, 'The Classic 32OZ', 1,12.99),(10160,2014,8,11, 'The Classic 32OZ', 1,12.99),(10160,2014,9,1, 'The Classic 32OZ', 1,12.99),(10160,2014,10,27, 'The Classic 32OZ', 1,12.99),(10160,2014,11,3, 'The Classic 32OZ', 1,12.99),(10160,2014,11,10, 'The Classic 32OZ', 1,12.99),(10160,2014,11,17, 'The Classic 32OZ', 1,12.99),(10160,2014,12,15, 'The Classic 32OZ', 1,12.99),(10160,2014,12,22, 'The Classic 32OZ', 1,12.99),(10162,2014,3,3, 'Coco-Lada 32OZ', 1,12.99),(10162,2014,3,24, 'Coco-Lada 32OZ', 2,12.99),(10162,2014,3,31, 'Coco-Lada 32OZ', 1,12.99),(10162,2014,4,14, 'Coco-Lada 32OZ', 2,12.99),(10162,2014,4,28, 'Coco-Lada 32OZ', 1,12.99),(10162,2014,6,16, 'Coco-Lada 32OZ', 1,12.99),(10162,2014,7,14, 'Coco-Lada 32OZ', 1,12.99),(10162,2014,2,24, 'Pink & Black 32OZ', 2,12.99),(10162,2014,3,3, 'Pink & Black 32OZ', 1,12.99),(10162,2014,3,24, 'Pink & Black 32OZ', 2,12.99),(10162,2014,4,14, 'Pink & Black 32OZ', 1,12.99),(10162,2014,4,21, 'Pink & Black 32OZ', 2,12.99),(10162,2014,4,28, 'Pink & Black 32OZ', 2,12.99),(10162,2014,6,2, 'Pink & Black 32OZ', 1,12.99),(10162,2014,6,9, 'Pink & Black 32OZ', 2,12.99),(10162,2014,6,16, 'Pink & Black 32OZ', 1,12.99),(10162,2014,6,30, 'Pink & Black 32OZ', 3,12.99),(10162,2014,7,14, 'Pink & Black 32OZ', 1,12.99),(10162,2014,7,21, 'Pink & Black 32OZ', 1,12.99),(10162,2014,7,28, 'Pink & Black 32OZ', 1,12.99),(10162,2014,9,1, 'Pink & Black 32OZ', 2,12.99),(10162,2014,9,22, 'Pink & Black 32OZ', 1,12.99),(10162,2014,10,6, 'Pink & Black 32OZ', 1,12.99),(10162,2014,10,20, 'Pink & Black 32OZ', 1,12.99),(10162,2014,11,10, 'Pink & Black 32OZ', 2,12.99),(10162,2014,11,17, 'Pink & Black 32OZ', 2,12.99),(10162,2014,11,24, 'Pink & Black 32OZ', 1,12.99),(10162,2014,12,22, 'Pink & Black 32OZ', 2,12.99),(10162,2014,7,28, 'Syrup Cocktail Coco Lada 32OZ', 1,12.99),(10162,2014,9,15, 'Syrup Cocktail Coco Lada 32OZ', 1,12.99),(10162,2014,3,3, 'The Classic 32OZ', 1,12.99),(10162,2014,3,24, 'The Classic 32OZ', 3,12.99),(10162,2014,4,14, 'The Classic 32OZ', 1,12.99),(10162,2014,4,28, 'The Classic 32OZ', 3,12.99),(10162,2014,5,5, 'The Classic 32OZ', 2,12.99),(10162,2014,5,19, 'The Classic 32OZ', 1,12.99),(10162,2014,6,9, 'The Classic 32OZ', 1,12.99),(10162,2014,6,30, 'The Classic 32OZ', 1,12.99),(10162,2014,7,7, 'The Classic 32OZ', 14,12.99),(10162,2014,7,14, 'The Classic 32OZ', 1,12.99),(10162,2014,7,21, 'The Classic 32OZ', 1,12.99),(10162,2014,7,28, 'The Classic 32OZ', 1,12.99),(10162,2014,8,11, 'The Classic 32OZ', 1,12.99),(10162,2014,9,15, 'The Classic 32OZ', 1,12.99),(10162,2014,10,6, 'The Classic 32OZ', 1,12.99),(10162,2014,10,13, 'The Classic 32OZ', 1,12.99),(10162,2014,11,24, 'The Classic 32OZ', 1,12.99),(10162,2014,12,1, 'The Classic 32OZ', 1,12.99),(10162,2014,12,8, 'The Classic 32OZ', 2,12.99),(10213,2014,5,12, 'Pink & Black 32OZ', 1,12.99),(10213,2014,7,7, 'Pink & Black 32OZ', 1,12.99),(10213,2014,7,28, 'Pink & Black 32OZ', 1,12.99),(10213,2014,10,27, 'Pink & Black 32OZ', 1,12.99),(10213,2014,11,3, 'Pink & Black 32OZ', 1,12.99),(10213,2014,12,8, 'Pink & Black 32OZ', 1,12.99),(10213,2013,12,30, 'The Classic 32OZ', 1,12.99),(10213,2014,2,24, 'The Classic 32OZ', 1,12.99),(10213,2014,4,28, 'The Classic 32OZ', 1,12.99),(10213,2014,5,12, 'The Classic 32OZ', 1,12.99),(10213,2014,6,2, 'The Classic 32OZ', 1,12.99),(10213,2014,7,7, 'The Classic 32OZ', 1,12.99),(10213,2014,12,15, 'The Classic 32OZ', 3,12.99),(10220,2014,1,6, 'Coco-Lada 32OZ', 1,12.99),(10220,2014,2,3, 'Coco-Lada 32OZ', 3,12.99),(10220,2014,2,24, 'Coco-Lada 32OZ', 1,12.99),(10220,2014,3,17, 'Coco-Lada 32OZ', 1,12.99),(10220,2014,3,31, 'Coco-Lada 32OZ', 2,12.99),(10220,2014,4,14, 'Coco-Lada 32OZ', 1,12.99),(10220,2014,4,28, 'Coco-Lada 32OZ', 1,12.99),(10220,2014,5,12, 'Coco-Lada 32OZ', 3,12.99),(10220,2014,6,16, 'Coco-Lada 32OZ', 1,12.99),(10220,2014,10,27, 'Coco-Lada 32OZ', 1,12.99),(10220,2014,11,3, 'Coco-Lada 32OZ', 1,12.99),(10220,2014,12,1, 'Coco-Lada 32OZ', 1,12.99),(10220,2014,12,15, 'Coco-Lada 32OZ', 4,12.99),(10220,2013,12,23, 'Pink & Black 32OZ', 2,12.99),(10220,2013,12,30, 'Pink & Black 32OZ', 1,12.99),(10220,2014,1,6, 'Pink & Black 32OZ', 2,12.99),(10220,2014,1,13, 'Pink & Black 32OZ', 1,12.99),(10220,2014,1,27, 'Pink & Black 32OZ', 2,12.99),(10220,2014,2,3, 'Pink & Black 32OZ', 4,12.99),(10220,2014,2,17, 'Pink & Black 32OZ', 1,12.99),(10220,2014,2,24, 'Pink & Black 32OZ', 1,12.99),(10220,2014,3,3, 'Pink & Black 32OZ', 1,12.99),(10220,2014,3,10, 'Pink & Black 32OZ', 1,12.99),(10220,2014,3,17, 'Pink & Black 32OZ', 1,12.99),(10220,2014,3,31, 'Pink & Black 32OZ', 1,12.99),(10220,2014,4,7, 'Pink & Black 32OZ', 1,12.99),(10220,2014,4,14, 'Pink & Black 32OZ', 4,12.99),(10220,2014,4,21, 'Pink & Black 32OZ', 2,12.99),(10220,2014,4,28, 'Pink & Black 32OZ', 2,12.99),(10220,2014,5,5, 'Pink & Black 32OZ', 4,12.99),(10220,2014,5,26, 'Pink & Black 32OZ', 2,12.99),(10220,2014,6,2, 'Pink & Black 32OZ', 1,12.99),(10220,2014,6,23, 'Pink & Black 32OZ', 1,12.99),(10220,2014,7,21, 'Pink & Black 32OZ', 1,12.99),(10220,2014,7,28, 'Pink & Black 32OZ', 1,12.99),(10220,2014,8,25, 'Pink & Black 32OZ', 2,12.99),(10220,2014,9,1, 'Pink & Black 32OZ', 1,12.99),(10220,2014,10,6, 'Pink & Black 32OZ', 1,12.99),(10220,2014,10,13, 'Pink & Black 32OZ', 1,12.99),(10220,2014,11,3, 'Pink & Black 32OZ', 1,12.99),(10220,2014,11,24, 'Pink & Black 32OZ', 2,12.99),(10220,2014,12,8, 'Pink & Black 32OZ', 1,12.99),(10220,2014,12,15, 'Pink & Black 32OZ', 2,12.99),(10220,2014,8,4, 'Syrup Cocktail Coco Lada 32OZ', 1,12.99),(10220,2014,9,15, 'Syrup Cocktail Coco Lada 32OZ', 1,12.99),(10220,2013,12,23, 'The Classic 32OZ', 3,12.99),(10220,2014,1,6, 'The Classic 32OZ', 1,12.99),(10220,2014,1,27, 'The Classic 32OZ', 2,12.99),(10220,2014,2,10, 'The Classic 32OZ', 1,12.99),(10220,2014,2,24, 'The Classic 32OZ', 2,12.99),(10220,2014,3,3, 'The Classic 32OZ', 1,12.99),(10220,2014,3,17, 'The Classic 32OZ', 4,12.99),(10220,2014,3,24, 'The Classic 32OZ', 1,12.99),(10220,2014,4,14, 'The Classic 32OZ', 3,12.99),(10220,2014,4,21, 'The Classic 32OZ', 1,12.99),(10220,2014,5,5, 'The Classic 32OZ', 5,12.99),(10220,2014,5,19, 'The Classic 32OZ', 1,12.99),(10220,2014,5,26, 'The Classic 32OZ', 1,12.99),(10220,2014,6,9, 'The Classic 32OZ', 1,12.99),(10220,2014,6,23, 'The Classic 32OZ', 2,12.99),(10220,2014,6,30, 'The Classic 32OZ', 2,12.99),(10220,2014,7,14, 'The Classic 32OZ', 1,12.99),(10220,2014,7,21, 'The Classic 32OZ', 3,12.99),(10220,2014,7,28, 'The Classic 32OZ', 2,12.99),(10220,2014,8,4, 'The Classic 32OZ', 1,12.99),(10220,2014,8,11, 'The Classic 32OZ', 1,12.99),(10220,2014,8,18, 'The Classic 32OZ', 2,12.99),(10220,2014,8,25, 'The Classic 32OZ', 3,12.99),(10220,2014,9,8, 'The Classic 32OZ', 3,12.99),(10220,2014,10,13, 'The Classic 32OZ', 1,12.99),(10220,2014,10,27, 'The Classic 32OZ', 2,12.99),(10220,2014,11,3, 'The Classic 32OZ', 4,12.99),(10220,2014,11,17, 'The Classic 32OZ', 5,12.99),(10220,2014,12,15, 'The Classic 32OZ', 6,12.99),(10236,2014,4,7, 'Coco-Lada 32OZ', 1,12.99),(10236,2014,5,19, 'Coco-Lada 32OZ', 1,12.99),(10236,2014,6,30, 'Coco-Lada 32OZ', 1,12.99),(10236,2014,5,19, 'Pink & Black 32OZ', 1,12.99),(10236,2014,6,9, 'Pink & Black 32OZ', 2,12.99),(10236,2014,6,30, 'Pink & Black 32OZ', 1,12.99),(10236,2014,7,28, 'Pink & Black 32OZ', 1,12.99),(10236,2014,7,28, 'Syrup Cocktail Coco Lada 32OZ', 3,12.99),(10236,2014,3,24, 'The Classic 32OZ', 7,12.99),(10236,2014,5,19, 'The Classic 32OZ', 2,12.99),(10236,2014,6,2, 'The Classic 32OZ', 2,12.99),(10236,2014,6,16, 'The Classic 32OZ', 1,12.99),(10236,2014,7,7, 'The Classic 32OZ', 1,12.99),(10236,2014,7,21, 'The Classic 32OZ', 1,12.99),(10236,2014,9,15, 'The Classic 32OZ', 1,12.99),(10236,2014,9,29, 'The Classic 32OZ', 1,12.99),(10236,2014,10,20, 'The Classic 32OZ', 1,12.99),(10236,2014,11,24, 'The Classic 32OZ', 1,12.99),(10236,2014,12,1, 'The Classic 32OZ', 1,12.99),(10236,2014,12,8, 'The Classic 32OZ', 5,12.99),(10236,2014,12,22, 'The Classic 32OZ', 1,12.99),(10240,2013,11,4, 'Coco-Lada 32OZ', 1,12.99),(10240,2013,11,11, 'Coco-Lada 32OZ', 1,12.99),(10240,2013,11,25, 'Coco-Lada 32OZ', 3,12.99),(10240,2013,12,2, 'Coco-Lada 32OZ', 2,12.99),(10240,2013,12,16, 'Coco-Lada 32OZ', 1,12.99),(10240,2014,2,17, 'Coco-Lada 32OZ', 1,12.99),(10240,2014,2,24, 'Coco-Lada 32OZ', 1,12.99),(10240,2014,3,3, 'Coco-Lada 32OZ', 1,12.99),(10240,2014,3,10, 'Coco-Lada 32OZ', 1,12.99),(10240,2014,10,20, 'Coco-Lada 32OZ', 1,12.99),(10240,2014,12,15, 'Coco-Lada 32OZ', 1,12.99),(10240,2014,12,22, 'Coco-Lada 32OZ', 1,12.99),(10240,2013,12,23, 'Pink & Black 32OZ', 1,12.99),(10240,2013,12,30, 'Pink & Black 32OZ', 1,12.99),(10240,2014,2,3, 'Pink & Black 32OZ', 1,12.99),(10240,2014,2,17, 'Pink & Black 32OZ', 1,12.99),(10240,2014,3,24, 'Pink & Black 32OZ', 2,12.99),(10240,2014,4,21, 'Pink & Black 32OZ', 2,12.99),(10240,2014,4,28, 'Pink & Black 32OZ', 1,12.99),(10240,2014,5,12, 'Pink & Black 32OZ', 1,12.99),(10240,2014,5,19, 'Pink & Black 32OZ', 1,12.99),(10240,2014,6,23, 'Pink & Black 32OZ', 1,12.99),(10240,2014,7,7, 'Pink & Black 32OZ', 1,12.99),(10240,2014,7,14, 'Pink & Black 32OZ', 4,12.99),(10240,2014,7,28, 'Pink & Black 32OZ', 2,12.99),(10240,2014,8,18, 'Pink & Black 32OZ', 1,12.99),(10240,2014,8,25, 'Pink & Black 32OZ', 1,12.99),(10240,2014,9,15, 'Pink & Black 32OZ', 3,12.99),(10240,2014,9,29, 'Pink & Black 32OZ', 1,12.99),(10240,2014,11,17, 'Pink & Black 32OZ', 1,12.99),(10240,2014,11,24, 'Pink & Black 32OZ', 2,12.99),(10240,2014,7,28, 'Syrup Cocktail Coco Lada 32OZ', 1,12.99),(10240,2014,8,4, 'Syrup Cocktail Coco Lada 32OZ', 1,12.99),(10240,2014,8,11, 'Syrup Cocktail Coco Lada 32OZ', 1,12.99),(10240,2014,8,18, 'Syrup Cocktail Coco Lada 32OZ', 1,12.99),(10240,2014,9,8, 'Syrup Cocktail Coco Lada 32OZ', 1,12.99),(10240,2013,10,28, 'The Classic 32OZ', 1,12.99),(10240,2013,11,4, 'The Classic 32OZ', 1,12.99),(10240,2013,12,23, 'The Classic 32OZ', 1,12.99),(10240,2014,3,24, 'The Classic 32OZ', 1,12.99),(10240,2014,4,14, 'The Classic 32OZ', 1,12.99),(10240,2014,6,2, 'The Classic 32OZ', 1,12.99),(10245,2014,1,6, 'Coco-Lada 32OZ', 1,12.99),(10245,2014,1,13, 'Coco-Lada 32OZ', 2,12.99),(10245,2014,1,20, 'Coco-Lada 32OZ', 1,12.99),(10245,2014,1,27, 'Coco-Lada 32OZ', 1,12.99),(10245,2014,2,10, 'Coco-Lada 32OZ', 2,12.99),(10245,2014,2,17, 'Coco-Lada 32OZ', 2,12.99),(10245,2014,2,24, 'Coco-Lada 32OZ', 2,12.99),(10245,2014,3,3, 'Coco-Lada 32OZ', 2,12.99),(10245,2014,3,17, 'Coco-Lada 32OZ', 1,12.99),(10245,2014,3,24, 'Coco-Lada 32OZ', 2,12.99),(10245,2014,4,7, 'Coco-Lada 32OZ', 2,12.99),(10245,2014,6,9, 'Coco-Lada 32OZ', 1,12.99),(10245,2014,11,24, 'Coco-Lada 32OZ', 1,12.99),(10245,2014,12,8, 'Coco-Lada 32OZ', 1,12.99),(10245,2013,12,9, 'Pink & Black 32OZ', 1,12.99),(10245,2013,12,16, 'Pink & Black 32OZ', 1,12.99),(10245,2013,12,23, 'Pink & Black 32OZ', 1,12.99),(10245,2014,1,6, 'Pink & Black 32OZ', 1,12.99),(10245,2014,1,13, 'Pink & Black 32OZ', 1,12.99),(10245,2014,1,20, 'Pink & Black 32OZ', 2,12.99),(10245,2014,1,27, 'Pink & Black 32OZ', 1,12.99),(10245,2014,2,10, 'Pink & Black 32OZ', 2,12.99),(10245,2014,2,17, 'Pink & Black 32OZ', 1,12.99),(10245,2014,2,24, 'Pink & Black 32OZ', 3,12.99),(10245,2014,3,3, 'Pink & Black 32OZ', 1,12.99),(10245,2014,3,10, 'Pink & Black 32OZ', 1,12.99),(10245,2014,3,17, 'Pink & Black 32OZ', 1,12.99),(10245,2014,3,24, 'Pink & Black 32OZ', 1,12.99),(10245,2014,3,31, 'Pink & Black 32OZ', 1,12.99),(10245,2014,4,7, 'Pink & Black 32OZ', 2,12.99),(10245,2014,4,21, 'Pink & Black 32OZ', 1,12.99),(10245,2014,4,28, 'Pink & Black 32OZ', 1,12.99),(10245,2014,5,5, 'Pink & Black 32OZ', 1,12.99),(10245,2014,6,2, 'Pink & Black 32OZ', 1,12.99),(10245,2014,6,9, 'Pink & Black 32OZ', 3,12.99),(10245,2014,6,16, 'Pink & Black 32OZ', 2,12.99),(10245,2014,6,23, 'Pink & Black 32OZ', 2,12.99),(10245,2014,7,7, 'Pink & Black 32OZ', 3,12.99),(10245,2014,9,22, 'Pink & Black 32OZ', 1,12.99),(10245,2014,10,13, 'Pink & Black 32OZ', 2,12.99),(10245,2014,10,27, 'Pink & Black 32OZ', 1,12.99),(10245,2014,12,8, 'Pink & Black 32OZ', 3,12.99),(10245,2014,12,15, 'Pink & Black 32OZ', 2,12.99),(10245,2013,12,16, 'The Classic 32OZ', 1,12.99),(10245,2013,12,23, 'The Classic 32OZ', 1,12.99),(10245,2014,1,6, 'The Classic 32OZ', 3,12.99),(10245,2014,1,13, 'The Classic 32OZ', 1,12.99),(10245,2014,1,20, 'The Classic 32OZ', 2,12.99),(10245,2014,1,27, 'The Classic 32OZ', 1,12.99),(10245,2014,2,10, 'The Classic 32OZ', 2,12.99),(10245,2014,2,17, 'The Classic 32OZ', 1,12.99),(10245,2014,2,24, 'The Classic 32OZ', 2,12.99),(10245,2014,3,3, 'The Classic 32OZ', 2,12.99),(10245,2014,3,31, 'The Classic 32OZ', 6,12.99),(10245,2014,4,7, 'The Classic 32OZ', 4,12.99),(10245,2014,4,14, 'The Classic 32OZ', 2,12.99),(10245,2014,4,21, 'The Classic 32OZ', 2,12.99),(10245,2014,4,28, 'The Classic 32OZ', -1,12.99),(10245,2014,5,5, 'The Classic 32OZ', 1,12.99),(10245,2014,6,2, 'The Classic 32OZ', 1,12.99),(10245,2014,6,9, 'The Classic 32OZ', 3,12.99),(10245,2014,7,28, 'The Classic 32OZ', 1,12.99),(10245,2014,8,4, 'The Classic 32OZ', 1,12.99),(10245,2014,8,11, 'The Classic 32OZ', 1,12.99),(10245,2014,8,18, 'The Classic 32OZ', 1,12.99),(10245,2014,9,1, 'The Classic 32OZ', 2,12.99),(10245,2014,10,13, 'The Classic 32OZ', 1,12.99),(10245,2014,10,20, 'The Classic 32OZ', 1,12.99),(10245,2014,10,27, 'The Classic 32OZ', 1,12.99),(10245,2014,12,8, 'The Classic 32OZ', 2,12.99),(10245,2014,12,15, 'The Classic 32OZ', 1,12.99),(10245,2014,12,22, 'The Classic 32OZ', 1,12.99),(10279,2014,11,3, 'Pink & Black 32OZ', 1,12.99),(10279,2014,12,1, 'Pink & Black 32OZ', 4,12.99),(10279,2014,12,15, 'Pink & Black 32OZ', 1,12.99),(10279,2013,12,16, 'The Classic 32OZ', 1,12.99),(10279,2013,12,30, 'The Classic 32OZ', 1,12.99),(10279,2014,1,6, 'The Classic 32OZ', 1,12.99),(10279,2014,1,13, 'The Classic 32OZ', 1,12.99),(10279,2014,8,11, 'The Classic 32OZ', 2,12.99),(10279,2014,11,3, 'The Classic 32OZ', 2,12.99),(10279,2014,11,10, 'The Classic 32OZ', 3,12.99),(10279,2014,11,17, 'The Classic 32OZ', 1,12.99),(10300,2014,7,14, 'Pink & Black 32OZ', 1,12.99),(10300,2014,7,28, 'Pink & Black 32OZ', 4,12.99),(10300,2014,8,11, 'Pink & Black 32OZ', 3,12.99),(10300,2014,8,18, 'Pink & Black 32OZ', 1,12.99),(10300,2014,8,25, 'Pink & Black 32OZ', -1,12.99),(10300,2014,9,15, 'Pink & Black 32OZ', 4,12.99),(10300,2014,10,27, 'Pink & Black 32OZ', 2,12.99),(10300,2014,11,3, 'Pink & Black 32OZ', 2,12.99),(10300,2014,11,17, 'Pink & Black 32OZ', -1,12.99),(10300,2014,7,28, 'The Classic 32OZ', 5,12.99),(10300,2014,8,11, 'The Classic 32OZ', 3,12.99),(10300,2014,9,1, 'The Classic 32OZ', 1,12.99),(10300,2014,9,15, 'The Classic 32OZ', 3,12.99),(10300,2014,11,3, 'The Classic 32OZ', 1,12.99),(10300,2014,11,24, 'The Classic 32OZ', 1,12.99),(10317,2014,6,23, 'Pink & Black 32OZ', 3,12.99),(10317,2014,6,30, 'Pink & Black 32OZ', 1,12.99),(10317,2014,7,7, 'Pink & Black 32OZ', 1,12.99),(10317,2014,7,14, 'Pink & Black 32OZ', 1,12.99),(10317,2014,7,21, 'Pink & Black 32OZ', 2,12.99),(10317,2014,8,4, 'Pink & Black 32OZ', 1,12.99),(10317,2014,9,8, 'Pink & Black 32OZ', 2,12.99),(10317,2014,9,15, 'Pink & Black 32OZ', 1,12.99),(10317,2014,10,13, 'Pink & Black 32OZ', 1,12.99),(10317,2014,11,3, 'Pink & Black 32OZ', 1,12.99),(10317,2014,11,24, 'Pink & Black 32OZ', 2,12.99),(10317,2014,9,29, 'Syrup Cocktail Coco Lada 32OZ', 1,12.99),(10317,2014,8,18, 'The Classic 32OZ', 1,12.99),(10317,2014,9,1, 'The Classic 32OZ', 1,12.99),(10317,2014,9,8, 'The Classic 32OZ', 2,12.99),(10317,2014,9,22, 'The Classic 32OZ', 2,12.99),(10317,2014,9,29, 'The Classic 32OZ', 1,12.99),(10317,2014,10,13, 'The Classic 32OZ', 1,12.99),(10317,2014,10,20, 'The Classic 32OZ', 1,12.99),(10317,2014,10,27, 'The Classic 32OZ', 2,12.99),(10317,2014,11,3, 'The Classic 32OZ', 1,12.99),(10317,2014,11,24, 'The Classic 32OZ', 1,12.99),(10317,2014,12,1, 'The Classic 32OZ', 1,12.99),(10328,2013,12,23, 'Coco-Lada 32OZ', 2,12.99),(10328,2013,12,30, 'Coco-Lada 32OZ', 2,12.99),(10328,2014,4,21, 'Coco-Lada 32OZ', 2,12.99),(10328,2014,5,26, 'Coco-Lada 32OZ', 2,12.99),(10328,2014,11,3, 'Coco-Lada 32OZ', 3,12.99),(10328,2013,12,9, 'Pink & Black 32OZ', 2,12.99),(10328,2013,12,16, 'Pink & Black 32OZ', 1,12.99),(10328,2013,12,30, 'Pink & Black 32OZ', 6,12.99),(10328,2014,1,6, 'Pink & Black 32OZ', 1,12.99),(10328,2014,4,14, 'Pink & Black 32OZ', 1,12.99),(10328,2014,4,21, 'Pink & Black 32OZ', 1,12.99),(10328,2014,6,30, 'Pink & Black 32OZ', 1,12.99),(10328,2014,7,7, 'Pink & Black 32OZ', 1,12.99),(10328,2014,8,18, 'Pink & Black 32OZ', 1,12.99),(10328,2014,8,25, 'Pink & Black 32OZ', 1,12.99),(10328,2014,9,8, 'Pink & Black 32OZ', 1,12.99),(10328,2014,9,22, 'Pink & Black 32OZ', 1,12.99),(10328,2014,9,29, 'Pink & Black 32OZ', 1,12.99),(10328,2014,11,3, 'Pink & Black 32OZ', 3,12.99),(10328,2014,11,17, 'Pink & Black 32OZ', 1,12.99),(10328,2014,11,24, 'Pink & Black 32OZ', 2,12.99),(10328,2014,12,15, 'Pink & Black 32OZ', 1,12.99),(10328,2013,12,16, 'The Classic 32OZ', 1,12.99),(10328,2013,12,30, 'The Classic 32OZ', 3,12.99),(10328,2014,1,6, 'The Classic 32OZ', 1,12.99),(10328,2014,2,3, 'The Classic 32OZ', 2,12.99),(10328,2014,2,17, 'The Classic 32OZ', 1,12.99),(10328,2014,3,3, 'The Classic 32OZ', 1,12.99),(10328,2014,3,17, 'The Classic 32OZ', 1,12.99),(10328,2014,4,7, 'The Classic 32OZ', 1,12.99),(10328,2014,4,21, 'The Classic 32OZ', 1,12.99),(10328,2014,7,7, 'The Classic 32OZ', 1,12.99),(10328,2014,7,14, 'The Classic 32OZ', 1,12.99),(10328,2014,8,4, 'The Classic 32OZ', 1,12.99),(10328,2014,8,11, 'The Classic 32OZ', 2,12.99),(10103,2014,2,10, 'Coco-Lada 32OZ', 1,15.99),(10103,2014,2,17, 'Coco-Lada 32OZ', 1,15.99),(10103,2014,3,17, 'Coco-Lada 32OZ', 1,15.99),(10103,2014,3,31, 'Coco-Lada 32OZ', 2,15.99),(10103,2014,4,21, 'Coco-Lada 32OZ', 1,15.99),(10103,2014,5,5, 'Coco-Lada 32OZ', 2,15.99),(10103,2014,6,2, 'Coco-Lada 32OZ', 2,15.99),(10103,2014,7,14, 'Coco-Lada 32OZ', 2,15.99),(10103,2014,8,4, 'Coco-Lada 32OZ', 1,15.99),(10103,2014,9,15, 'Coco-Lada 32OZ', 1,15.99),(10103,2014,9,22, 'Coco-Lada 32OZ', 1,15.99),(10103,2014,10,20, 'Coco-Lada 32OZ', 1,15.99),(10103,2014,11,3, 'Coco-Lada 32OZ', 1,15.99),(10103,2014,2,10, 'Pink & Black 32OZ', 1,15.99),(10103,2014,2,17, 'Pink & Black 32OZ', 1,15.99),(10103,2014,3,10, 'Pink & Black 32OZ', 1,15.99),(10103,2014,3,24, 'Pink & Black 32OZ', 1,15.99),(10103,2014,3,31, 'Pink & Black 32OZ', 1,15.99),(10103,2014,4,14, 'Pink & Black 32OZ', 1,15.99),(10103,2014,4,21, 'Pink & Black 32OZ', 1,15.99),(10103,2014,4,28, 'Pink & Black 32OZ', 1,15.99),(10103,2014,5,12, 'Pink & Black 32OZ', 1,15.99),(10103,2014,5,19, 'Pink & Black 32OZ', 1,15.99),(10103,2014,5,26, 'Pink & Black 32OZ', 2,15.99),(10103,2014,7,14, 'Pink & Black 32OZ', 1,15.99),(10103,2014,9,1, 'Pink & Black 32OZ', 1,15.99),(10103,2014,9,8, 'Pink & Black 32OZ', 1,15.99),(10103,2014,9,29, 'Pink & Black 32OZ', 1,15.99),(10103,2014,10,20, 'Pink & Black 32OZ', 1,15.99),(10103,2014,12,22, 'Pink & Black 32OZ', 1,12.99),(10103,2014,2,17, 'The Classic 32OZ', 1,15.99),(10103,2014,3,3, 'The Classic 32OZ', 1,15.99),(10103,2014,3,10, 'The Classic 32OZ', 2,15.99),(10103,2014,3,17, 'The Classic 32OZ', 1,15.99),(10103,2014,3,24, 'The Classic 32OZ', 1,15.99),(10103,2014,4,14, 'The Classic 32OZ', 1,15.99),(10103,2014,4,21, 'The Classic 32OZ', 2,15.99),(10103,2014,4,28, 'The Classic 32OZ', 2,15.99),(10103,2014,5,5, 'The Classic 32OZ', 1,15.99),(10103,2014,5,19, 'The Classic 32OZ', 1,15.99),(10103,2014,6,9, 'The Classic 32OZ', 1,15.99),(10103,2014,7,7, 'The Classic 32OZ', 1,15.99),(10103,2014,11,3, 'The Classic 32OZ', 3,15.99),(10103,2014,12,1, 'The Classic 32OZ', 1,15.99),(10148,2014,4,7, 'Coco-Lada 32OZ', 2,15.99),(10148,2014,4,14, 'Coco-Lada 32OZ', 1,15.99),(10148,2014,4,21, 'Coco-Lada 32OZ', 1,15.99),(10148,2014,8,18, 'Coco-Lada 32OZ', 1,15.99),(10148,2014,9,1, 'Coco-Lada 32OZ', 1,15.99),(10148,2014,1,27, 'Pink & Black 32OZ', 1,15.99),(10148,2014,2,3, 'Pink & Black 32OZ', 1,15.99),(10148,2014,2,10, 'Pink & Black 32OZ', 1,15.99),(10148,2014,2,17, 'Pink & Black 32OZ', 2,15.99),(10148,2014,3,10, 'Pink & Black 32OZ', 2,15.99),(10148,2014,4,28, 'Pink & Black 32OZ', 1,15.99),(10148,2014,5,12, 'Pink & Black 32OZ', 1,15.99),(10148,2014,8,18, 'Pink & Black 32OZ', 1,15.99),(10148,2014,12,1, 'Pink & Black 32OZ', 1,15.99),(10148,2014,3,17, 'The Classic 32OZ', 1,15.99),(10148,2014,3,31, 'The Classic 32OZ', 1,15.99),(10148,2014,4,28, 'The Classic 32OZ', 1,15.99),(10148,2014,5,5, 'The Classic 32OZ', 1,15.99),(10148,2014,10,20, 'The Classic 32OZ', 1,15.99),(10153,2014,2,3, 'Coco-Lada 32OZ', 1,15.99),(10153,2014,2,24, 'Coco-Lada 32OZ', 1,15.99),(10153,2014,3,3, 'Coco-Lada 32OZ', 1,15.99),(10153,2014,4,7, 'Coco-Lada 32OZ', 1,15.99),(10153,2014,6,2, 'Coco-Lada 32OZ', 1,15.99),(10153,2014,6,9, 'Coco-Lada 32OZ', 1,15.99),(10153,2014,8,25, 'Coco-Lada 32OZ', 1,15.99),(10153,2014,9,15, 'Coco-Lada 32OZ', 3,15.99),(10153,2014,11,10, 'Coco-Lada 32OZ', 1,15.99),(10153,2014,2,10, 'Pink & Black 32OZ', 1,15.99),(10153,2014,2,17, 'Pink & Black 32OZ', 1,15.99),(10153,2014,3,10, 'Pink & Black 32OZ', 1,15.99),(10153,2014,6,16, 'Pink & Black 32OZ', 1,15.99),(10153,2014,7,21, 'Pink & Black 32OZ', 1,15.99),(10153,2014,7,28, 'Pink & Black 32OZ', 1,15.99),(10153,2014,9,22, 'The Classic 32OZ', 2,15.99),(10153,2014,10,27, 'The Classic 32OZ', 1,15.99),(10216,2014,4,28, 'Pink & Black 32OZ', -1,15.99),(10243,2014,2,10, 'Coco-Lada 32OZ', 1,15.99),(10243,2014,4,7, 'Coco-Lada 32OZ', 1,15.99),(10243,2014,4,28, 'Coco-Lada 32OZ', 1,15.99),(10243,2014,10,27, 'Coco-Lada 32OZ', 1,15.99),(10243,2014,12,15, 'Coco-Lada 32OZ', 1,12.99),(10243,2014,2,17, 'Pink & Black 32OZ', 2,15.99),(10243,2014,2,24, 'Pink & Black 32OZ', 1,15.99),(10243,2014,4,7, 'Pink & Black 32OZ', 1,15.99),(10243,2014,5,5, 'Pink & Black 32OZ', 2,15.99),(10243,2014,6,2, 'Pink & Black 32OZ', 1,15.99),(10243,2014,6,16, 'Pink & Black 32OZ', 1,15.99),(10243,2014,7,14, 'Pink & Black 32OZ', 1,15.99),(10243,2014,7,28, 'Pink & Black 32OZ', 1,15.99),(10243,2014,4,14, 'The Classic 32OZ', 1,15.99),(10243,2014,5,5, 'The Classic 32OZ', 2,15.99),(10243,2014,6,9, 'The Classic 32OZ', 1,15.99),(10243,2014,7,21, 'The Classic 32OZ', 1,15.99),(10243,2014,8,25, 'The Classic 32OZ', 2,15.99),(10243,2014,9,22, 'The Classic 32OZ', 1,15.99),(10260,2014,2,3, 'Coco-Lada 32OZ', 2,15.99),(10260,2014,2,24, 'Coco-Lada 32OZ', 1,15.99),(10260,2014,3,3, 'Coco-Lada 32OZ', 1,15.99),(10260,2014,3,10, 'Coco-Lada 32OZ', 1,15.99),(10260,2014,3,31, 'Coco-Lada 32OZ', 1,15.99),(10260,2014,5,12, 'Coco-Lada 32OZ', 1,15.99),(10260,2014,5,19, 'Coco-Lada 32OZ', 2,15.99),(10260,2014,7,7, 'Coco-Lada 32OZ', 1,15.99),(10260,2014,7,28, 'Coco-Lada 32OZ', 1,15.99),(10260,2014,10,13, 'Coco-Lada 32OZ', 2,15.99),(10260,2014,11,17, 'Coco-Lada 32OZ', 1,15.99),(10260,2014,11,24, 'Coco-Lada 32OZ', 1,15.99),(10260,2014,12,8, 'Coco-Lada 32OZ', 2,12.99),(10260,2014,12,22, 'Coco-Lada 32OZ', 1,12.99),(10260,2014,2,17, 'Pink & Black 32OZ', 1,15.99),(10260,2014,2,24, 'Pink & Black 32OZ', 1,15.99),(10260,2014,4,14, 'Pink & Black 32OZ', 1,15.99),(10260,2014,4,21, 'Pink & Black 32OZ', 1,15.99),(10260,2014,4,28, 'Pink & Black 32OZ', 1,15.99),(10260,2014,5,12, 'Pink & Black 32OZ', 1,15.99),(10260,2014,5,26, 'Pink & Black 32OZ', 1,15.99),(10260,2014,6,23, 'Pink & Black 32OZ', 1,15.99),(10260,2014,8,18, 'Pink & Black 32OZ', 2,15.99),(10260,2014,11,10, 'Pink & Black 32OZ', 1,15.99),(10260,2014,12,8, 'Pink & Black 32OZ', 1,12.99),(10260,2014,1,27, 'The Classic 32OZ', 1,15.99),(10260,2014,2,3, 'The Classic 32OZ', 1,15.99),(10260,2014,2,24, 'The Classic 32OZ', 1,15.99),(10260,2014,4,21, 'The Classic 32OZ', 2,15.99),(10260,2014,7,21, 'The Classic 32OZ', 1,15.99),(10260,2014,9,1, 'The Classic 32OZ', 3,15.99),(10260,2014,9,22, 'The Classic 32OZ', 1,15.99),(10260,2014,10,20, 'The Classic 32OZ', 1,15.99),(10266,2014,3,24, 'Coco-Lada 32OZ', 1,15.99),(10266,2014,5,5, 'Coco-Lada 32OZ', 2,15.99),(10266,2014,6,16, 'Coco-Lada 32OZ', 1,15.99),(10266,2014,6,23, 'Coco-Lada 32OZ', 1,15.99),(10266,2014,7,14, 'Coco-Lada 32OZ', 1,15.99),(10266,2014,8,4, 'Coco-Lada 32OZ', 1,15.99),(10266,2014,8,11, 'Coco-Lada 32OZ', 1,15.99),(10266,2014,10,20, 'Coco-Lada 32OZ', 1,15.99),(10266,2014,2,3, 'Pink & Black 32OZ', 1,15.99),(10266,2014,2,10, 'Pink & Black 32OZ', 1,15.99),(10266,2014,2,24, 'Pink & Black 32OZ', 2,15.99),(10266,2014,3,3, 'Pink & Black 32OZ', 1,15.99),(10266,2014,3,10, 'Pink & Black 32OZ', 1,15.99),(10266,2014,3,17, 'Pink & Black 32OZ', 1,15.99),(10266,2014,3,24, 'Pink & Black 32OZ', 3,15.99),(10266,2014,3,31, 'Pink & Black 32OZ', 1,15.99),(10266,2014,4,7, 'Pink & Black 32OZ', 2,15.99),(10266,2014,4,14, 'Pink & Black 32OZ', 1,15.99),(10266,2014,4,21, 'Pink & Black 32OZ', 1,15.99),(10266,2014,4,28, 'Pink & Black 32OZ', 3,15.99),(10266,2014,5,5, 'Pink & Black 32OZ', 3,15.99),(10266,2014,5,19, 'Pink & Black 32OZ', 1,15.99),(10266,2014,5,26, 'Pink & Black 32OZ', 1,15.99),(10266,2014,6,2, 'Pink & Black 32OZ', 1,15.99),(10266,2014,9,15, 'Pink & Black 32OZ', -1,15.99),(10266,2014,2,17, 'The Classic 32OZ', 1,15.99),(10266,2014,5,5, 'The Classic 32OZ', 5,15.99),(10266,2014,6,2, 'The Classic 32OZ', 1,15.99),(10266,2014,6,9, 'The Classic 32OZ', 1,15.99),(10266,2014,6,23, 'The Classic 32OZ', 1,15.99),(10266,2014,9,15, 'The Classic 32OZ', 1,15.99),(10275,2014,4,28, 'Coco-Lada 32OZ', 1,15.99),(10275,2014,5,5, 'Coco-Lada 32OZ', 1,15.99),(10275,2014,5,12, 'Coco-Lada 32OZ', 1,15.99),(10275,2014,5,19, 'Coco-Lada 32OZ', 1,15.99),(10275,2014,6,2, 'Coco-Lada 32OZ', 1,15.99),(10275,2014,6,16, 'Coco-Lada 32OZ', 1,15.99),(10275,2014,2,17, 'Pink & Black 32OZ', 1,15.99),(10275,2014,3,3, 'Pink & Black 32OZ', 1,15.99),(10275,2014,3,31, 'Pink & Black 32OZ', 1,15.99),(10275,2014,4,14, 'Pink & Black 32OZ', 2,15.99),(10275,2014,4,21, 'Pink & Black 32OZ', 1,15.99),(10275,2014,2,17, 'The Classic 32OZ', 1,15.99),(10275,2014,3,3, 'The Classic 32OZ', 1,15.99),(10275,2014,3,24, 'The Classic 32OZ', 1,15.99),(10275,2014,4,14, 'The Classic 32OZ', 1,15.99),(10275,2014,5,5, 'The Classic 32OZ', 1,15.99),(10275,2014,5,26, 'The Classic 32OZ', 1,15.99),(10327,2014,3,10, 'Coco-Lada 32OZ', 2,15.99),(10327,2014,6,16, 'Coco-Lada 32OZ', 1,15.99),(10327,2014,8,25, 'Coco-Lada 32OZ', 2,15.99),(10327,2014,11,3, 'Coco-Lada 32OZ', 1,15.99),(10327,2014,2,17, 'Pink & Black 32OZ', 1,15.99),(10327,2014,4,14, 'Pink & Black 32OZ', 2,15.99),(10327,2014,4,28, 'Pink & Black 32OZ', 2,15.99),(10327,2014,7,14, 'Pink & Black 32OZ', 1,15.99),(10327,2014,7,21, 'Pink & Black 32OZ', 1,15.99),(10327,2014,8,11, 'Pink & Black 32OZ', 1,15.99),(10327,2014,9,29, 'Pink & Black 32OZ', 1,15.99),(10327,2014,4,28, 'The Classic 32OZ', 4,15.99),(10327,2014,8,18, 'The Classic 32OZ', 1,15.99),(10327,2014,9,8, 'The Classic 32OZ', 1,15.99),(10402,2014,3,17, 'Coco-Lada 32OZ', 1,15.99),(10402,2014,3,24, 'Coco-Lada 32OZ', 1,15.99),(10402,2014,4,14, 'Coco-Lada 32OZ', 2,15.99),(10402,2014,4,28, 'Coco-Lada 32OZ', 1,15.99),(10402,2014,5,19, 'Coco-Lada 32OZ', 1,15.99),(10402,2014,7,21, 'Coco-Lada 32OZ', 1,15.99),(10402,2014,10,6, 'Coco-Lada 32OZ', 1,15.99),(10402,2014,12,1, 'Coco-Lada 32OZ', 1,15.99),(10402,2014,2,10, 'Pink & Black 32OZ', -1,15.99),(10412,2014,3,24, 'Coco-Lada 32OZ', 1,15.99),(10412,2014,8,4, 'Coco-Lada 32OZ', 1,15.99),(10412,2014,3,3, 'Pink & Black 32OZ', 1,15.99),(10412,2014,3,17, 'Pink & Black 32OZ', 1,15.99),(10412,2014,5,26, 'Pink & Black 32OZ', 1,15.99),(10412,2014,8,18, 'Pink & Black 32OZ', 1,15.99),(10412,2014,9,22, 'Pink & Black 32OZ', 1,15.99),(10412,2014,10,20, 'Pink & Black 32OZ', 1,15.99),(10412,2014,4,28, 'The Classic 32OZ', 1,15.99),(10412,2014,6,16, 'The Classic 32OZ', 1,15.99),(10412,2014,7,21, 'The Classic 32OZ', 1,15.99),(10412,2014,11,10, 'The Classic 32OZ', 1,15.99),(10436,2014,2,10, 'Coco-Lada 32OZ', 2,15.99),(10436,2014,2,17, 'Coco-Lada 32OZ', 1,15.99),(10436,2014,2,24, 'Coco-Lada 32OZ', 1,15.99),(10436,2014,3,17, 'Coco-Lada 32OZ', 1,15.99),(10436,2014,7,21, 'Coco-Lada 32OZ', 1,15.99),(10436,2014,2,17, 'Pink & Black 32OZ', 2,15.99),(10436,2014,3,17, 'Pink & Black 32OZ', 1,15.99),(10436,2014,4,7, 'Pink & Black 32OZ', 1,15.99),(10436,2014,4,14, 'Pink & Black 32OZ', 1,15.99),(10436,2014,4,28, 'Pink & Black 32OZ', 1,15.99),(10436,2014,8,18, 'Pink & Black 32OZ', 2,15.99),(10436,2014,9,15, 'Pink & Black 32OZ', 2,15.99),(10436,2014,10,27, 'Pink & Black 32OZ', 1,15.99),(10436,2014,11,17, 'Pink & Black 32OZ', 1,15.99),(10436,2014,4,28, 'The Classic 32OZ', 6,15.99),(10436,2014,6,23, 'The Classic 32OZ', 1,15.99),(10436,2014,9,1, 'The Classic 32OZ', 2,8.99),(10083,2014,11,10, 'Coco-Lada 32OZ', -1,14.99),(10083,2014,11,10, 'Pink & Black 32OZ', -1,14.99),(10083,2014,11,10, 'The Classic 32OZ', -1,14.99),(10095,2014,11,10, 'Coco-Lada 32OZ', 1,14.99),(10095,2014,10,20, 'Pink & Black 32OZ', 1,14.99),(10095,2014,11,17, 'Pink & Black 32OZ', 1,14.99),(10095,2014,12,1, 'Pink & Black 32OZ', 1,14.99),(10095,2014,12,8, 'Pink & Black 32OZ', 1,13.49),(10095,2014,10,6, 'The Classic 32OZ', 1,14.99),(10095,2014,10,20, 'The Classic 32OZ', 1,14.99),(10095,2014,11,17, 'The Classic 32OZ', 1,14.99),(10095,2014,12,15, 'The Classic 32OZ', 1,13.49),(10104,2014,11,17, 'Pink & Black 32OZ', 1,14.99),(10104,2014,12,1, 'Pink & Black 32OZ', 1,14.99),(10104,2014,12,22, 'Pink & Black 32OZ', 1,13.49),(10142,2014,9,29, 'Coco-Lada 32OZ', 1,14.99),(10142,2014,11,3, 'Coco-Lada 32OZ', 3,14.99),(10142,2014,11,17, 'Coco-Lada 32OZ', 1,14.99),(10142,2014,10,6, 'Pink & Black 32OZ', 1,14.99),(10142,2014,10,27, 'Pink & Black 32OZ', 1,14.99),(10142,2014,11,3, 'Pink & Black 32OZ', 3,14.99),(10142,2014,12,1, 'Pink & Black 32OZ', 1,14.99),(10142,2014,11,3, 'The Classic 32OZ', 2,14.99),(10142,2014,11,17, 'The Classic 32OZ', 1,14.99),(10144,2014,9,29, 'Coco-Lada 32OZ', 1,14.99),(10144,2014,10,20, 'Coco-Lada 32OZ', 1,14.99),(10144,2014,10,6, 'Pink & Black 32OZ', 1,14.99),(10144,2014,12,8, 'Pink & Black 32OZ', 1,14.99),(10144,2014,9,29, 'The Classic 32OZ', 1,14.99),(10146,2014,9,29, 'Coco-Lada 32OZ', 1,14.99),(10146,2014,10,6, 'Coco-Lada 32OZ', 2,14.99),(10146,2014,11,3, 'Coco-Lada 32OZ', 1,14.99),(10146,2014,11,10, 'Coco-Lada 32OZ', 1,14.99),(10146,2014,12,15, 'Coco-Lada 32OZ', 1,13.49),(10146,2014,12,22, 'Coco-Lada 32OZ', 1,13.49),(10146,2014,9,29, 'Pink & Black 32OZ', 1,14.99),(10146,2014,10,27, 'Pink & Black 32OZ', 2,14.99),(10146,2014,11,3, 'Pink & Black 32OZ', 2,14.99),(10146,2014,12,1, 'Pink & Black 32OZ', 1,14.99),(10146,2014,12,8, 'Pink & Black 32OZ', 1,13.49),(10146,2014,12,15, 'Pink & Black 32OZ', 1,13.49),(10146,2014,12,22, 'Pink & Black 32OZ', 1,13.49),(10146,2014,9,29, 'The Classic 32OZ', 2,14.99),(10146,2014,11,3, 'The Classic 32OZ', 1,14.99),(10146,2014,12,1, 'The Classic 32OZ', 1,14.99),(10146,2014,12,8, 'The Classic 32OZ', 1,13.49),(10280,2014,10,27, 'Coco-Lada 32OZ', 1,14.99),(10280,2014,11,10, 'Coco-Lada 32OZ', 2,14.99),(10280,2014,11,17, 'Coco-Lada 32OZ', 1,14.99),(10280,2014,11,24, 'Coco-Lada 32OZ', 2,14.99),(10280,2014,12,1, 'Coco-Lada 32OZ', 4,14.99),(10280,2014,12,8, 'Coco-Lada 32OZ', 1,13.49),(10280,2014,12,15, 'Coco-Lada 32OZ', 3,13.49),(10280,2014,10,27, 'Pink & Black 32OZ', 1,14.99),(10280,2014,11,3, 'Pink & Black 32OZ', 2,14.99),(10280,2014,11,10, 'Pink & Black 32OZ', 1,14.99),(10280,2014,11,24, 'Pink & Black 32OZ', 3,14.99),(10280,2014,12,1, 'Pink & Black 32OZ', 4,14.74),(10280,2014,12,15, 'Pink & Black 32OZ', 3,13.49),(10280,2014,12,22, 'Pink & Black 32OZ', 1,13.49),(10280,2014,11,10, 'The Classic 32OZ', 1,14.99),(10280,2014,11,17, 'The Classic 32OZ', 2,14.99),(10280,2014,11,24, 'The Classic 32OZ', 1,14.99),(10280,2014,12,1, 'The Classic 32OZ', 6,14.99),(10280,2014,12,8, 'The Classic 32OZ', 1,13.49),(10280,2014,12,15, 'The Classic 32OZ', 6,13.49),(10280,2014,12,22, 'The Classic 32OZ', -1,13.49),(10350,2014,11,3, 'Coco-Lada 32OZ', 2,14.99),(10350,2014,12,8, 'Coco-Lada 32OZ', 1,13.49),(10350,2014,12,22, 'Coco-Lada 32OZ', 1,13.49),(10350,2014,11,3, 'Pink & Black 32OZ', 2,14.99),(10350,2014,12,22, 'Pink & Black 32OZ', 1,13.49),(10350,2014,10,20, 'The Classic 32OZ', 1,14.99),(10350,2014,11,3, 'The Classic 32OZ', 2,14.99),(10350,2014,12,22, 'The Classic 32OZ', 1,13.49),(10405,2014,9,29, 'Coco-Lada 32OZ', 2,14.99),(10405,2014,11,3, 'Coco-Lada 32OZ', 2,14.99),(10405,2014,9,29, 'Pink & Black 32OZ', 2,14.99),(10405,2014,10,13, 'Pink & Black 32OZ', 1,14.99),(10405,2014,10,27, 'Pink & Black 32OZ', 1,14.99),(10405,2014,10,20, 'The Classic 32OZ', 1,14.99),(10405,2014,11,3, 'The Classic 32OZ', 2,14.99),(10405,2014,11,17, 'The Classic 32OZ', 1,14.99),(10410,2014,11,10, 'Coco-Lada 32OZ', 1,14.99),(10410,2014,10,6, 'Pink & Black 32OZ', 1,14.99),(10410,2014,11,3, 'Pink & Black 32OZ', 1,14.99),(10410,2014,12,8, 'The Classic 32OZ', 1,13.49),(10410,2014,12,15, 'The Classic 32OZ', 1,13.49),(10435,2014,10,27, 'Coco-Lada 32OZ', 2,14.99),(10435,2014,11,3, 'Coco-Lada 32OZ', 1,14.99),(10435,2014,11,10, 'Coco-Lada 32OZ', 2,14.99),(10504,2014,9,22, 'Coco-Lada 32OZ', 1,14.99),(10504,2014,11,3, 'Coco-Lada 32OZ', 1,14.99),(10504,2014,12,8, 'Coco-Lada 32OZ', 1,13.49),(10504,2014,10,6, 'Pink & Black 32OZ', 1,14.99),(10504,2014,11,3, 'Pink & Black 32OZ', 2,14.99),(10504,2014,12,8, 'Pink & Black 32OZ', 1,13.49),(10504,2014,12,15, 'Pink & Black 32OZ', 1,13.49),(10504,2014,9,29, 'The Classic 32OZ', 1,14.99),(10504,2014,11,10, 'The Classic 32OZ', 1,14.99),(10504,2014,12,15, 'The Classic 32OZ', 1,13.49),(10532,2014,11,24, 'Coco-Lada 32OZ', 1,14.99),(10532,2014,12,1, 'Coco-Lada 32OZ', 1,14.99),(10532,2014,12,15, 'Coco-Lada 32OZ', 1,13.49),(10556,2014,12,15, 'Coco-Lada 32OZ', 1,13.49),(10556,2014,12,22, 'Coco-Lada 32OZ', 3,13.49),(10556,2014,12,15, 'Pink & Black 32OZ', 1,13.49),(10556,2014,12,22, 'Pink & Black 32OZ', 1,13.49),(10556,2014,12,22, 'The Classic 32OZ', 1,13.49),(10173,2014,11,24, 'Pink & Black 8OZ', 0,NULL),(10225,2014,10,20, 'Pink & Black 32OZ', 1,13.99),(10225,2014,11,3, 'Pink & Black 32OZ', 1,13.99),(10225,2014,11,24, 'Pink & Black 32OZ', 1,13.99),(10359,2014,10,20, 'Coco-Lada 32OZ', 1,13.99),(10359,2014,12,15, 'Coco-Lada 32OZ', 1,13.99),(10359,2014,10,27, 'Pink & Black 32OZ', 1,13.99),(10359,2014,12,1, 'The Classic 32OZ', 1,13.99),(10359,2014,12,15, 'The Classic 32OZ', 1,13.99),(10401,2014,11,10, 'Pink & Black 8OZ', 1,7.99),(10401,2014,10,13, 'The Classic 8OZ', 1,7.99),(10401,2014,12,1, 'The Classic 8OZ', 1,7.99),(10437,2014,12,1, 'Coco-Lada 32OZ', 2,13.99),(10437,2014,12,15, 'Coco-Lada 32OZ', 2,13.99),(10437,2014,12,22, 'Coco-Lada 32OZ', 2,13.99),(10437,2014,10,27, 'Coco-Lada 8OZ', 3,7.99),(10437,2014,11,3, 'Coco-Lada 8OZ', 1,7.99),(10437,2014,11,17, 'Coco-Lada 8OZ', 2,7.99),(10437,2014,11,24, 'Coco-Lada 8OZ', 3,7.99),(10437,2014,12,1, 'Coco-Lada 8OZ', 2,7.99),(10437,2014,12,22, 'Coco-Lada 8OZ', 1,7.99),(10437,2014,10,27, 'Pink & Black 8OZ', 1,7.99),(10437,2014,11,10, 'Pink & Black 8OZ', 1,7.99),(10437,2014,11,17, 'Pink & Black 8OZ', 1,7.99),(10437,2014,11,24, 'Pink & Black 8OZ', 1,7.99),(10437,2014,12,1, 'Pink & Black 8OZ', 1,7.99),(10437,2014,11,17, 'The Classic 8OZ', 2,7.99),(10437,2014,12,1, 'The Classic 8OZ', 2,7.99)\""
       ]
      }
     ],
     "prompt_number": 30
    },
    {
     "cell_type": "raw",
     "metadata": {},
     "source": [
      "create table owlsbrew.wfm_sales(\n",
      "storenum int,\n",
      "year int,\n",
      "month int,\n",
      "day int,\n",
      "sku text,\n",
      "units int,\n",
      "price float8\n",
      ")"
     ]
    },
    {
     "cell_type": "code",
     "collapsed": false,
     "input": [],
     "language": "python",
     "metadata": {},
     "outputs": []
    }
   ],
   "metadata": {}
  }
 ]
}